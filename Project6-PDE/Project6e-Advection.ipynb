{
 "cells": [
  {
   "cell_type": "markdown",
   "id": "1d38b89d",
   "metadata": {},
   "source": [
    "# Project 6e - Advection (this is optional - work on it if you're finished with 6e, but it's okay if you don't get here)\n",
    "\n",
    "Recall that our general form for a PDE is that of a conservation law: namely that \n",
    "$$\n",
    "\\frac{\\partial u}{\\partial t} + \\frac{\\partial F}{\\partial x} = 0\n",
    "$$\n",
    "where $F$ is a flux.  For the diffusion equation, we assumed that the flux was proportional to the imbalance in stuff (heat, people, whatever) in adjacent locations.  However, there are other types of fluxes.  For example, consider the case in which a material is being carried along by some background flow: birds or volcanic ash plumes being carried along by the wind or similar.  Such a flux has a deceptively simple form\n",
    "$$\n",
    "F = v u\n",
    "$$\n",
    "where $v$ is a velocity (which we'll assume to be constant in this case).  The resulting equation is \n",
    "$$\n",
    "\\frac{\\partial u}{\\partial t} + v \\frac{\\partial u}{\\partial x} = 0.\n",
    "$$\n",
    "This PDE is called the *advection equation*.  the difference between this and the diffusion equation is that it involves a first spatial derivative rather than second.  To solve this, we can try to use similar methods.  The centered first finite difference looks like\n",
    "$$\n",
    "\\frac{\\partial u_i}{\\partial x} \\approx \\begin{bmatrix} -\\frac{1}{2 \\Delta x} & 0 & \\frac{1}{2 \\Delta x} \\end{bmatrix} \\begin{bmatrix} u_{i-1} \\\\ u_i \\\\ u_{i+1} \\end{bmatrix}.\n",
    "$$\n",
    "We can implement this fairly simply by replacing the formula for $A$ in the diffusion equation with the discretization given above.  There are a few subtleties: first, because we've only got a first derivative, this equation only allows one boundary condition.  For simplicity, we'll set a Dirichlet condition of one on the left side.  However, since we're using a centered finite difference, our rightmost point still requires some special treatment because it relies on a point outside the domain.  To fix this problem, we'll simply replace that row with the non-centered finite difference\n",
    "$$\n",
    "\\frac{\\partial u_{n-1}}{\\partial x} \\approx \\begin{bmatrix} -\\frac{1}{\\Delta x} & \\frac{1}{\\Delta x} \\end{bmatrix} \\begin{bmatrix} u_{n-2} \\\\ u_{n-1} \\end{bmatrix}.\n",
    "$$\n",
    "We can see these operations in the code below.  "
   ]
  },
  {
   "cell_type": "code",
   "execution_count": null,
   "id": "29b440d9",
   "metadata": {},
   "outputs": [],
   "source": [
    "import numpy as np\n",
    "import ode_methods as om\n",
    "import matplotlib.pyplot as plt\n",
    "\n",
    "class Advection:\n",
    "    \n",
    "    def __init__(self,x,v=0.1): \n",
    "        self.v = v\n",
    "        self.x = x\n",
    "        self.dx = dx = x[1]-x[0]\n",
    "        self.n = len(x)\n",
    "        \n",
    "        self.A_adv = np.zeros((self.n,self.n))\n",
    "        for i in range(1,self.n-1):\n",
    "            self.A_adv[i,i-1] = -v/(2*dx)\n",
    "            self.A_adv[i,i+1] = v/(2*dx)\n",
    "        \n",
    "        self.A_adv[-1,-1] = v/dx\n",
    "        self.A_adv[-1,-2] = -v/dx\n",
    "            \n",
    "        self.A = -self.A_adv\n",
    "        \n",
    "        self.b = np.zeros(self.n)\n",
    "        \n",
    "    def rhs(self,t,u):\n",
    "        dudt = self.A @ u + self.b\n",
    "        return dudt\n",
    "    \n",
    "    def stiffness_matrix(self):\n",
    "        return self.A \n",
    "    \n",
    "    def load_vector(self):\n",
    "        return self.b"
   ]
  },
  {
   "cell_type": "markdown",
   "id": "ec89815f",
   "metadata": {},
   "source": [
    "We can integrate using Backward Euler (note the way that I am handling Dirichlet BCs here - I prefer this method)"
   ]
  },
  {
   "cell_type": "code",
   "execution_count": null,
   "id": "72c0afe8",
   "metadata": {},
   "outputs": [],
   "source": [
    "class BackwardEuler:\n",
    "    def __init__(self,dirichlet_bcs=[(0,1.0)]):\n",
    "        self.dirichlet_bcs = dirichlet_bcs\n",
    "    \n",
    "    def step(self,ode,t,dt,u_0):\n",
    "        f = u_0/dt + ode.load_vector()\n",
    "        I = np.eye(len(u_0))\n",
    "        L = I/dt - ode.stiffness_matrix()\n",
    "        for index,value in self.dirichlet_bcs:\n",
    "            L[index] = 0\n",
    "            L[index,index] = 1\n",
    "            f[index] = value\n",
    "        u_1 = np.linalg.solve(L,f)\n",
    "        return u_1"
   ]
  },
  {
   "cell_type": "markdown",
   "id": "f7924b26",
   "metadata": {},
   "source": [
    "We'll use a zero initial condition across the domain, and integrate per usual.  "
   ]
  },
  {
   "cell_type": "code",
   "execution_count": null,
   "id": "57b598df",
   "metadata": {},
   "outputs": [],
   "source": [
    "x = np.linspace(0,1,101)\n",
    "\n",
    "u0 = np.zeros_like(x)\n",
    "method = BackwardEuler(dirichlet_bcs=[(0,1.0)])\n",
    "advection = Advection(x,v=0.1)\n",
    "integrator = om.Integrator(advection,method)\n",
    "t,u = integrator.integrate([0,5],0.01,u0)"
   ]
  },
  {
   "cell_type": "markdown",
   "id": "b326149b",
   "metadata": {},
   "source": [
    "Plotting our solution, we get"
   ]
  },
  {
   "cell_type": "code",
   "execution_count": null,
   "id": "f543fe1c",
   "metadata": {},
   "outputs": [],
   "source": [
    "plt.plot(x,u[::100].T)"
   ]
  },
  {
   "cell_type": "markdown",
   "id": "89bf7d38",
   "metadata": {},
   "source": [
    "Oh no, wiggles!  This is clearly wrong - if we are simply carrying some material with constant velocity across the domain, the analytical solution should be $u(x,t) = H(x-vt)$, where $H$ is the step (or Heaviside) function.  Where are these wiggles coming from?  Consider the flow of information in this problem: if material is being transported into a cell from upwind, it shouldn't depend on what's going on downwind.  Yet investigation our centered finite difference, it's clear that it does, and this is what is leading to the oscillations in the solution.  To fix this problem, we need to align our numerical scheme with our intuition, and use an approximation to the first derivative that only relies on the cell itself and its upwind neighbors.  Because velocity in this problem is moving from left to right, a simple method for this is\n",
    "$$\n",
    "\\frac{\\partial u_{i}}{\\partial x} \\approx \\begin{bmatrix} -\\frac{1}{\\Delta x} & \\frac{1}{\\Delta x} \\end{bmatrix} \\begin{bmatrix} u_{i-1} \\\\ u_{i} \\end{bmatrix}.\n",
    "$$\n",
    "(Note that this is the same method we already applied at the right boundary).  This method is called 'upwinding'.  **Implement upwinding and show that it eliminates the spurious oscillations**.  However, this improvement comes at a cost, in that the non-centered difference formula is only first order accurate.  **How does this inaccuracy manifest itself in the solution**?  Compare your result to the analytical (step function) solution.  See how this equation behaves with different initial and boundary conditions.  "
   ]
  },
  {
   "cell_type": "code",
   "execution_count": null,
   "id": "7f5ee3d7",
   "metadata": {},
   "outputs": [],
   "source": []
  },
  {
   "cell_type": "markdown",
   "id": "9fbc04c2",
   "metadata": {},
   "source": [
    "As a last point, there can be both advective and diffusive fluxes present in a system.  Devise and implement a method for solving the advection-diffusion equation\n",
    "$$\n",
    "\\frac{\\partial u}{\\partial t} + v \\frac{\\partial u}{\\partial x} = k\\frac{\\partial^2 u}{\\partial x^2}\n",
    "$$"
   ]
  },
  {
   "cell_type": "code",
   "execution_count": null,
   "id": "df391552",
   "metadata": {},
   "outputs": [],
   "source": []
  }
 ],
 "metadata": {
  "kernelspec": {
   "display_name": "Python 3 (ipykernel)",
   "language": "python",
   "name": "python3"
  },
  "language_info": {
   "codemirror_mode": {
    "name": "ipython",
    "version": 3
   },
   "file_extension": ".py",
   "mimetype": "text/x-python",
   "name": "python",
   "nbconvert_exporter": "python",
   "pygments_lexer": "ipython3",
   "version": "3.10.6"
  }
 },
 "nbformat": 4,
 "nbformat_minor": 5
}
