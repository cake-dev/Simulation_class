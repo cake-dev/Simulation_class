{
 "cells": [
  {
   "cell_type": "markdown",
   "metadata": {},
   "source": [
    "### 1: The logistic map and chaos"
   ]
  },
  {
   "cell_type": "markdown",
   "metadata": {},
   "source": [
    "Read sections 6.1 and 6.2 in Gould and then do Gould problem 6.1. **Graduate students only:** Reproduce Gould Fig. 6.2."
   ]
  },
  {
   "cell_type": "markdown",
   "metadata": {},
   "source": [
    "(a) Explore the dynamical behavior of the logistic map in (6.5) with r = 0.24 for different values of x0 . Show numerically that x = 0 is a stable fixed point for this value of r. That is, the iterated values of x converge to x = 0 independently of the value of x0 . If x represents the population of insects, describe the qualitative behavior of the population."
   ]
  },
  {
   "cell_type": "markdown",
   "metadata": {},
   "source": [
    "(b) Explore the dynamical behavior of (6.5) for r = 0.26, 0.5, 0.74, and 0.748. A fixed point is\n",
    "unstable if for almost all values of x0 near the fixed point, the trajectories diverge from it.\n",
    "Verify that x = 0 is an unstable fixed point for r > 0.25. Show that for the suggested values\n",
    "of r, the iterated values of x do not change after an initial transient; that is, the long time\n",
    "dynamical behavior is period 1. In Appendix 6A we show that for r < 3/4 and for x0 in the\n",
    "interval 0 < x0 < 1, the trajectories approach the stable attractor at x = 1 − 1/4r. The set of\n",
    "initial points that iterate to the attractor is called the basin of the attractor. For the logistic\n",
    "map, the interval 0 < x < 1 is the basin of attraction of the attractor x = 1 − 1/4r."
   ]
  },
  {
   "cell_type": "markdown",
   "metadata": {},
   "source": [
    "(c) Explore the dynamical properties of (6.5) for r = 0.752, 0.76, 0.8, and 0.862. For r = 0.752\n",
    "and 0.862, approximately 1000 iterations are necessary to obtain convergent results. Show\n",
    "that if r is greater than 0.75, x oscillates between two values after an initial transient be-\n",
    "havior. That is, instead of a stable cycle of period 1 corresponding to one fixed point, the\n",
    "system has a stable cycle of period 2. The value of r at which the single fixed point $x^∗$ splits\n",
    "or bifurcates into two values $x_1^∗$ and $x_2^∗$ is $r = b_1 = 3/4$. The pair of x values, $x_1^∗$ and $x_2^∗$ ,\n",
    "form a stable attractor of period 2."
   ]
  },
  {
   "cell_type": "markdown",
   "metadata": {},
   "source": [
    "(d) What are the stable attractors of (6.5) for r = 0.863 and 0.88? What is the corresponding\n",
    "period? What are the stable attractors and corresponding periods for r = 0.89, 0.891, and\n",
    "0.8922?"
   ]
  },
  {
   "cell_type": "markdown",
   "metadata": {},
   "source": [
    "### 2: Lorenz equations"
   ]
  },
  {
   "cell_type": "markdown",
   "metadata": {},
   "source": [
    "The application of the Lorenz equations to weather prediction has led to a popular metaphor\n",
    "known as the butterfly effect. This metaphor is made even more meaningful by inspection of Fig-\n",
    "ure 6.10. "
   ]
  },
  {
   "cell_type": "markdown",
   "metadata": {},
   "source": [
    "Gould Problem 6.16 (you will need to read the preceding section). You may plot the solution however you wish (i.e. either in 3D using matplotlib’s 3D plotting capabilities or analogously to Fig. 6.10)"
   ]
  },
  {
   "cell_type": "markdown",
   "metadata": {},
   "source": [
    "(a) Use a Runge–Kutta algorithm such as RK4 or RK45 (see Appendix 3A) to obtain a numeri-\n",
    "cal solution of the Lorenz equations (6.33). Generate three-dimensional plots using Dis-\n",
    "play3DFrame. Explore the basin of the attractor with σ = 10, b = 8/3, and r = 28."
   ]
  },
  {
   "cell_type": "markdown",
   "metadata": {},
   "source": [
    "(b) Determine qualitatively the sensitivity to initial conditions. Start two points very close to\n",
    "each other and watch their trajectories for approximately $10^4$ time steps."
   ]
  },
  {
   "cell_type": "markdown",
   "metadata": {},
   "source": [
    "(c) Let $z_m$ denote the value of z where z is a relative maximum for the mth time. You can\n",
    "determine the value of $z_m$ by finding the average of the two values of z when the right-hand\n",
    "side of (6.33) changes sign. Plot $z_{m+1}$ versus $z_m$ and describe what you find. This procedure\n",
    "is one way that a continuous system can be mapped onto a discrete map. What is the slope\n",
    "of the $z_{m+1}$ versus $z_m$ curve? Is its magnitude always greater than unity? If so, then this\n",
    "behavior is an indication of chaos. Why?"
   ]
  }
 ],
 "metadata": {
  "kernelspec": {
   "display_name": "simenv",
   "language": "python",
   "name": "python3"
  },
  "language_info": {
   "codemirror_mode": {
    "name": "ipython",
    "version": 3
   },
   "file_extension": ".py",
   "mimetype": "text/x-python",
   "name": "python",
   "nbconvert_exporter": "python",
   "pygments_lexer": "ipython3",
   "version": "3.12.1"
  }
 },
 "nbformat": 4,
 "nbformat_minor": 2
}
