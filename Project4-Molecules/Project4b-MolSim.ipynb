{
 "cells": [
  {
   "cell_type": "markdown",
   "id": "51154ef0",
   "metadata": {},
   "source": [
    "# Project 4b - Molecular Simulation: N-bodies and emergent properties\n",
    "\n",
    "## Due date TBD\n",
    "\n",
    "With working code for an $n$-molecule simulation in place (along with periodic boundary conditions) we can start to examine some interesting cases.  In particular, we will perform simulations corresponding to materials in the gas, liquid, and solid phases.  "
   ]
  },
  {
   "cell_type": "code",
   "execution_count": 4,
   "id": "995e8882",
   "metadata": {},
   "outputs": [],
   "source": [
    "import LJParticles as ljp\n",
    "import numpy as np\n",
    "import matplotlib.pyplot as plt"
   ]
  },
  {
   "cell_type": "markdown",
   "id": "ebcb0bec",
   "metadata": {},
   "source": [
    "### Random placement - gas\n",
    "One of the trickiest aspects of molecular dynamics simulations is the specification of initial conditions.  This is a result of the strong repulsive forces of the Lennard-Jones force.  If particles are randomly placed too close together, we'll get a rather extreme force that will quickly turn into an unreasonably fast particle and the simulation will explode.  As such, **begin by devising a subroutine that randomly places $N$ particles such that no two are closer than $2^\\frac{1}{6} \\sigma$.**  Look at Gould 8.4 for inspiration.  Using this routine, randomly place 10 particles in a domain that is size $L\\times L$, with $\\sigma=\\epsilon=1$.  Set initial velocities to normally-distributed random values with standard deviation $\\sigma=5$.  Use a time step of $\\Delta t=0.001$ and run the simulation for $10$ units of time.  "
   ]
  },
  {
   "cell_type": "code",
   "execution_count": null,
   "id": "3524286c",
   "metadata": {},
   "outputs": [],
   "source": [
    "# N particles in an LxL box\n",
    "N = 20\n",
    "box_size = 10\n",
    "x0 = np.random.rand(N*2)*box_size\n",
    "# init velocites to normally distributed random numbers with sd 5\n",
    "v0 = np.random.randn(N*2)*5\n",
    "sigma = 1\n",
    "epsilon = 1\n",
    "dt = 0.001\n",
    "t_end = 10\n",
    "lj_sim = ljp.LJParticleSim(N, box_size, sigma, epsilon, dt, t_end, x0, v0, isRandom=True)"
   ]
  },
  {
   "cell_type": "code",
   "execution_count": null,
   "id": "32104059",
   "metadata": {},
   "outputs": [],
   "source": [
    "x0"
   ]
  },
  {
   "cell_type": "code",
   "execution_count": null,
   "id": "27a6ba9d",
   "metadata": {},
   "outputs": [],
   "source": [
    "lj_sim.anim_pygame_interactive()"
   ]
  },
  {
   "cell_type": "markdown",
   "id": "fb3043e5",
   "metadata": {},
   "source": [
    "Such dynamics correspond to a very diffuse gas (note the variable density in different portions of the domain).  Try increasing the density, i.e. by increasing the number of particles for the same size domain.  **How many particles can you add in this way before the randomized method stops working?**.  Why doesn't it work anymore?  "
   ]
  },
  {
   "cell_type": "markdown",
   "id": "e9c85327",
   "metadata": {},
   "source": [
    "I was able to get 2 to 2.5 times the box size edge (sometimes more, but this was the consistent amount) for the number of particles before the simulation stopped working.  The reason it stops working is that the particles are too close together and the force between them is too large.  This causes the particles to move too quickly and the simulation to explode. Floating point math errors could be another reason for the simulation to stop working."
   ]
  },
  {
   "cell_type": "markdown",
   "id": "26900c30",
   "metadata": {},
   "source": [
    "**Finally, at the maximum plausible number of particles, compute the temperature of the system through time, which is simply the average kinetic energy of all the particles (technically, proportional to, with the Boltzmann constant as the constant of proportionality, but this is really just a matter of changing units).  Does the kinetic energy change through time?  Does it find an equilibrium?**"
   ]
  },
  {
   "cell_type": "code",
   "execution_count": null,
   "id": "b0e29c43",
   "metadata": {},
   "outputs": [],
   "source": [
    "kinetic_e, potential_e = lj_sim.calculate_total_energy()\n",
    "# plot the total energy through time\n",
    "plt.plot(lj_sim.times, kinetic_e)"
   ]
  },
  {
   "cell_type": "markdown",
   "id": "8f0eb36c",
   "metadata": {},
   "source": [
    "### Rectangular lattice - the liquid phase\n",
    "The situation above essentially corresponds to a vacuum: the pressure is close to zero because the particle are not squeezed together except during occasional repulsive interactions (**The pressure is proportional to the potential energy.  Add a routine to your LennardJones class that computes the Lennard-Jones potential, Gould Eq. 8.2**).  Non-interactive particles such as Argon thus tend to be gases at low pressures.  However, as we squeeze these particles together we can get them to behave like a liquid, which has a uniform density but where particles are still free to move around.  To simulate particles at higher pressure, we'll need to place them so that the density is greater than that achievable through random placment, but also such that the intermolecular forces approximately balance so that we don't get an explosion.  One reasonable starting configuration is a simple cartesian grid.  **Perform the same simulation as above, but with the particles initially placed on a grid with unit spacing.**  Accounting for periodic boundary conditions and again using $L=10$, this implies that you should have 100 particles.  "
   ]
  },
  {
   "cell_type": "code",
   "execution_count": 2,
   "id": "837a54eb",
   "metadata": {},
   "outputs": [],
   "source": [
    "# 100 particles on a 10x10 grid with unit spacing i.e. p0 = (x0=0,y0=0), p1 = (x1=0,y1=1), p2 = (x2=0,y2=2), p3 = (x3=0,y3=3), p4 = (x4=0,y4=4), p5 = (x5=0,y5=5), p6 = (x6=0,y6=6), p7 = (x7=0,y7=7), p8 = (x8=0,y8=8), p9 = (x9=0,y9=9), p10 = (x10=1, y10=0), ... , p99 = (x99=9,y99=9)\n",
    "# the x0 array is arranged like this: [x0, y0, x1, y1, x2, y2, ... x99, y99]\n",
    "x0 = np.array([0,0,0,1,0,2,0,3,0,4,0,5,0,6,0,7,0,8,0,9,1,0,1,1,1,2,1,3,1,4,1,5,1,6,1,7,1,8,1,9,2,0,2,1,2,2,2,3,2,4,2,5,2,6,2,7,2,8,2,9,3,0,3,1,3,2,3,3,3,4,3,5,3,6,3,7,3,8,3,9,4,0,4,1,4,2,4,3,4,4,4,5,4,6,4,7,4,8,4,9,5,0,5,1,5,2,5,3,5,4,5,5,5,6,5,7,5,8,5,9,6,0,6,1,6,2,6,3,6,4,6,5,6,6,6,7,6,8,6,9,7,0,7,1,7,2,7,3,7,4,7,5,7,6,7,7,7,8,7,9,8,0,8,1,8,2,8,3,8,4,8,5,8,6,8,7,8,8,8,9,9,0,9,1,9,2,9,3,9,4,9,5,9,6,9,7,9,8,9,9])\n",
    "v0 = np.zeros(200)\n",
    "N = 100\n",
    "box_size = 10\n",
    "sigma = 1\n",
    "epsilon = 1\n",
    "dt = 0.001\n",
    "t_end = 10\n",
    "lj_sim = ljp.LJParticleSim(N, box_size, sigma, epsilon, dt, t_end, x0, v0)"
   ]
  },
  {
   "cell_type": "code",
   "execution_count": null,
   "id": "991b7cc5",
   "metadata": {},
   "outputs": [],
   "source": [
    "x0"
   ]
  },
  {
   "cell_type": "code",
   "execution_count": null,
   "id": "07f3d8ee",
   "metadata": {},
   "outputs": [],
   "source": [
    "total_temp = lj_sim.calculate_total_energy()\n",
    "# plot the total energy through time\n",
    "plt.plot(lj_sim.times, total_temp)"
   ]
  },
  {
   "cell_type": "code",
   "execution_count": 3,
   "id": "e6bad9de",
   "metadata": {},
   "outputs": [
    {
     "name": "stdout",
     "output_type": "stream",
     "text": [
      "Particle 56: position = [4.99999502 5.99998763], velocity = [-2.61486326e-05 -1.02158681e-04]\n",
      "Particle 56: position = [4.999995   5.99998753], velocity = [-2.64585990e-05 -1.01389236e-04]\n",
      "Particle 56: position = [4.99999497 5.99998743], velocity = [-2.67785129e-05 -1.00609410e-04]\n",
      "Particle 56: position = [4.99999494 5.99998733], velocity = [-2.71075898e-05 -9.98197124e-05]\n",
      "Particle 56: position = [4.99999492 5.99998723], velocity = [-2.74450280e-05 -9.90206431e-05]\n",
      "Particle 56: position = [4.99999489 5.99998713], velocity = [-2.77900105e-05 -9.82126937e-05]\n",
      "Particle 56: position = [4.99999486 5.99998703], velocity = [-2.81417061e-05 -9.73963464e-05]\n",
      "Particle 56: position = [4.99999483 5.99998694], velocity = [-2.84992706e-05 -9.65720732e-05]\n",
      "Particle 56: position = [4.9999948  5.99998684], velocity = [-2.88618486e-05 -9.57403349e-05]\n",
      "Particle 56: position = [4.99999477 5.99998675], velocity = [-2.92285743e-05 -9.49015806e-05]\n",
      "Particle 56: position = [4.99999474 5.99998665], velocity = [-2.95985733e-05 -9.40562472e-05]\n",
      "Particle 56: position = [4.99999471 5.99998656], velocity = [-2.99709639e-05 -9.32047581e-05]\n",
      "Particle 56: position = [4.99999468 5.99998647], velocity = [-3.03448583e-05 -9.23475230e-05]\n",
      "Particle 56: position = [4.99999465 5.99998638], velocity = [-3.07193642e-05 -9.14849372e-05]\n",
      "Particle 56: position = [4.99999462 5.99998628], velocity = [-3.10935861e-05 -9.06173810e-05]\n",
      "Particle 56: position = [4.99999459 5.9999862 ], velocity = [-3.14666265e-05 -8.97452186e-05]\n",
      "Particle 56: position = [4.99999456 5.99998611], velocity = [-3.18375876e-05 -8.88687985e-05]\n",
      "Particle 56: position = [4.99999453 5.99998602], velocity = [-3.22055726e-05 -8.79884521e-05]\n",
      "Particle 56: position = [4.99999449 5.99998593], velocity = [-3.25696869e-05 -8.71044936e-05]\n",
      "Particle 56: position = [4.99999446 5.99998584], velocity = [-3.29290394e-05 -8.62172196e-05]\n",
      "Particle 56: position = [4.99999443 5.99998576], velocity = [-3.32827442e-05 -8.53269082e-05]\n",
      "Particle 56: position = [4.99999439 5.99998568], velocity = [-3.36299217e-05 -8.44338194e-05]\n",
      "Particle 56: position = [4.99999436 5.99998559], velocity = [-3.39696997e-05 -8.35381940e-05]\n",
      "Particle 56: position = [4.99999433 5.99998551], velocity = [-3.43012151e-05 -8.26402536e-05]\n",
      "Particle 56: position = [4.99999429 5.99998543], velocity = [-3.46236148e-05 -8.17402001e-05]\n",
      "Particle 56: position = [4.99999426 5.99998535], velocity = [-3.49360573e-05 -8.08382161e-05]\n",
      "Particle 56: position = [4.99999422 5.99998527], velocity = [-3.52377135e-05 -7.99344636e-05]\n",
      "Particle 56: position = [4.99999419 5.99998519], velocity = [-3.55277684e-05 -7.90290848e-05]\n",
      "Particle 56: position = [4.99999415 5.99998511], velocity = [-3.58054217e-05 -7.81222015e-05]\n",
      "Particle 56: position = [4.99999411 5.99998503], velocity = [-3.60698894e-05 -7.72139150e-05]\n",
      "Particle 56: position = [4.99999408 5.99998496], velocity = [-3.63204046e-05 -7.63043062e-05]\n",
      "Particle 56: position = [4.99999404 5.99998488], velocity = [-3.65562190e-05 -7.53934356e-05]\n",
      "Particle 56: position = [4.999994   5.99998481], velocity = [-3.67766032e-05 -7.44813430e-05]\n",
      "Particle 56: position = [4.99999397 5.99998473], velocity = [-3.69808485e-05 -7.35680480e-05]\n",
      "Particle 56: position = [4.99999393 5.99998466], velocity = [-3.71682674e-05 -7.26535498e-05]\n",
      "Particle 56: position = [4.99999389 5.99998459], velocity = [-3.73381945e-05 -7.17378275e-05]\n",
      "Particle 56: position = [4.99999386 5.99998452], velocity = [-3.74899877e-05 -7.08208402e-05]\n",
      "Particle 56: position = [4.99999382 5.99998445], velocity = [-3.76230289e-05 -6.99025272e-05]\n",
      "Particle 56: position = [4.99999378 5.99998438], velocity = [-3.77367246e-05 -6.89828083e-05]\n",
      "Particle 56: position = [4.99999374 5.99998431], velocity = [-3.78305070e-05 -6.80615842e-05]\n",
      "Particle 56: position = [4.9999937  5.99998424], velocity = [-3.79038346e-05 -6.71387368e-05]\n",
      "Particle 56: position = [4.99999367 5.99998418], velocity = [-3.79561928e-05 -6.62141292e-05]\n",
      "Particle 56: position = [4.99999363 5.99998411], velocity = [-3.79870945e-05 -6.52876068e-05]\n",
      "Particle 56: position = [4.99999359 5.99998405], velocity = [-3.79960808e-05 -6.43589973e-05]\n",
      "Particle 56: position = [4.99999355 5.99998398], velocity = [-3.79827216e-05 -6.34281113e-05]\n",
      "Particle 56: position = [4.99999351 5.99998392], velocity = [-3.79466160e-05 -6.24947426e-05]\n",
      "Particle 56: position = [4.99999348 5.99998386], velocity = [-3.78873927e-05 -6.15586693e-05]\n",
      "Particle 56: position = [4.99999344 5.9999838 ], velocity = [-3.78047104e-05 -6.06196538e-05]\n",
      "Particle 56: position = [4.9999934  5.99998374], velocity = [-3.76982584e-05 -5.96774439e-05]\n",
      "Particle 56: position = [4.99999336 5.99998368], velocity = [-3.75677565e-05 -5.87317732e-05]\n",
      "Particle 56: position = [4.99999333 5.99998362], velocity = [-3.74129557e-05 -5.77823618e-05]\n",
      "Particle 56: position = [4.99999329 5.99998357], velocity = [-3.72336378e-05 -5.68289170e-05]\n",
      "Particle 56: position = [4.99999325 5.99998351], velocity = [-3.70296164e-05 -5.58711343e-05]\n",
      "Particle 56: position = [4.99999322 5.99998346], velocity = [-3.68007363e-05 -5.49086980e-05]\n",
      "Particle 56: position = [4.99999318 5.9999834 ], velocity = [-3.65468738e-05 -5.39412818e-05]\n",
      "Particle 56: position = [4.99999314 5.99998335], velocity = [-3.62679369e-05 -5.29685499e-05]\n",
      "Particle 56: position = [4.99999311 5.9999833 ], velocity = [-3.59638649e-05 -5.19901580e-05]\n",
      "Particle 56: position = [4.99999307 5.99998325], velocity = [-3.56346287e-05 -5.10057536e-05]\n",
      "Particle 56: position = [4.99999304 5.9999832 ], velocity = [-3.52802305e-05 -5.00149776e-05]\n",
      "Particle 56: position = [4.999993   5.99998315], velocity = [-3.49007035e-05 -4.90174646e-05]\n",
      "Particle 56: position = [4.99999297 5.9999831 ], velocity = [-3.44961121e-05 -4.80128442e-05]\n",
      "Particle 56: position = [4.99999293 5.99998305], velocity = [-3.40665511e-05 -4.70007418e-05]\n",
      "Particle 56: position = [4.9999929  5.99998301], velocity = [-3.36121458e-05 -4.59807796e-05]\n",
      "Particle 56: position = [4.99999287 5.99998296], velocity = [-3.31330516e-05 -4.49525776e-05]\n",
      "Particle 56: position = [4.99999283 5.99998292], velocity = [-3.26294535e-05 -4.39157546e-05]\n",
      "Particle 56: position = [4.9999928  5.99998287], velocity = [-3.21015658e-05 -4.28699291e-05]\n",
      "Particle 56: position = [4.99999277 5.99998283], velocity = [-3.15496313e-05 -4.18147202e-05]\n",
      "Particle 56: position = [4.99999274 5.99998279], velocity = [-3.09739214e-05 -4.07497490e-05]\n",
      "Particle 56: position = [4.99999271 5.99998275], velocity = [-3.03747352e-05 -3.96746391e-05]\n",
      "Particle 56: position = [4.99999268 5.99998271], velocity = [-2.97523986e-05 -3.85890181e-05]\n",
      "Particle 56: position = [4.99999265 5.99998268], velocity = [-2.91072645e-05 -3.74925182e-05]\n",
      "Particle 56: position = [4.99999262 5.99998264], velocity = [-2.84397114e-05 -3.63847776e-05]\n",
      "Particle 56: position = [4.99999259 5.9999826 ], velocity = [-2.77501431e-05 -3.52654410e-05]\n",
      "Particle 56: position = [4.99999257 5.99998257], velocity = [-2.70389879e-05 -3.41341610e-05]\n",
      "Particle 56: position = [4.99999254 5.99998254], velocity = [-2.63066979e-05 -3.29905992e-05]\n",
      "Particle 56: position = [4.99999251 5.9999825 ], velocity = [-2.55537482e-05 -3.18344267e-05]\n",
      "Particle 56: position = [4.99999249 5.99998247], velocity = [-2.47806362e-05 -3.06653253e-05]\n",
      "Particle 56: position = [4.99999246 5.99998244], velocity = [-2.39878805e-05 -2.94829888e-05]\n",
      "Particle 56: position = [4.99999244 5.99998242], velocity = [-2.31760204e-05 -2.82871233e-05]\n",
      "Particle 56: position = [4.99999242 5.99998239], velocity = [-2.23456149e-05 -2.70774487e-05]\n",
      "Particle 56: position = [4.9999924  5.99998236], velocity = [-2.14972417e-05 -2.58536994e-05]\n",
      "Particle 56: position = [4.99999238 5.99998234], velocity = [-2.06314965e-05 -2.46156249e-05]\n",
      "Particle 56: position = [4.99999236 5.99998232], velocity = [-1.97489921e-05 -2.33629912e-05]\n",
      "Particle 56: position = [4.99999234 5.99998229], velocity = [-1.88503570e-05 -2.20955814e-05]\n",
      "Particle 56: position = [4.99999232 5.99998227], velocity = [-1.79362353e-05 -2.08131964e-05]\n",
      "Particle 56: position = [4.9999923  5.99998225], velocity = [-1.70072847e-05 -1.95156557e-05]\n",
      "Particle 56: position = [4.99999229 5.99998223], velocity = [-1.60641765e-05 -1.82027986e-05]\n",
      "Particle 56: position = [4.99999227 5.99998222], velocity = [-1.51075940e-05 -1.68744845e-05]\n",
      "Particle 56: position = [4.99999226 5.9999822 ], velocity = [-1.41382318e-05 -1.55305935e-05]\n",
      "Particle 56: position = [4.99999225 5.99998219], velocity = [-1.31567945e-05 -1.41710276e-05]\n",
      "Particle 56: position = [4.99999223 5.99998218], velocity = [-1.21639961e-05 -1.27957110e-05]\n",
      "Particle 56: position = [4.99999222 5.99998216], velocity = [-1.11605587e-05 -1.14045907e-05]\n",
      "Particle 56: position = [4.99999221 5.99998215], velocity = [-1.01472118e-05 -9.99763717e-06]\n",
      "Particle 56: position = [4.9999922  5.99998215], velocity = [-9.12469091e-06 -8.57484481e-06]\n",
      "Particle 56: position = [4.99999219 5.99998214], velocity = [-8.09373675e-06 -7.13623259e-06]\n",
      "Particle 56: position = [4.99999219 5.99998213], velocity = [-7.05509435e-06 -5.68184437e-06]\n",
      "Particle 56: position = [4.99999218 5.99998213], velocity = [-6.00951193e-06 -4.21174938e-06]\n",
      "Particle 56: position = [4.99999218 5.99998213], velocity = [-4.95773995e-06 -2.72604258e-06]\n",
      "Particle 56: position = [4.99999217 5.99998212], velocity = [-3.90053014e-06 -1.22484504e-06]\n",
      "Particle 56: position = [4.99999217 5.99998212], velocity = [-2.83863457e-06  2.91695835e-07]\n",
      "Particle 56: position = [4.99999217 5.99998213], velocity = [-1.77280463e-06  1.82340599e-06]\n",
      "Particle 56: position = [4.99999217 5.99998213], velocity = [-7.03790173e-07  3.37008455e-06]\n",
      "Particle 56: position = [4.99999217 5.99998213], velocity = [3.67661474e-07 4.93150363e-06]\n",
      "Particle 56: position = [4.99999217 5.99998214], velocity = [1.44080638e-06 6.50740824e-06]\n",
      "Particle 56: position = [4.99999217 5.99998215], velocity = [2.51490491e-06 8.09751621e-06]\n",
      "Particle 56: position = [4.99999218 5.99998216], velocity = [3.58922262e-06 9.70151814e-06]\n",
      "Particle 56: position = [4.99999218 5.99998217], velocity = [4.66303105e-06 1.13190774e-05]\n",
      "Particle 56: position = [4.99999219 5.99998218], velocity = [5.73560863e-06 1.29498304e-05]\n",
      "Particle 56: position = [4.99999219 5.9999822 ], velocity = [6.80624145e-06 1.45933862e-05]\n",
      "Particle 56: position = [4.9999922  5.99998221], velocity = [7.87422406e-06 1.62493274e-05]\n",
      "Particle 56: position = [4.99999221 5.99998223], velocity = [8.93886020e-06 1.79172096e-05]\n",
      "Particle 56: position = [4.99999222 5.99998225], velocity = [9.99946362e-06 1.95965622e-05]\n",
      "Particle 56: position = [4.99999223 5.99998227], velocity = [1.10553587e-05 2.12868884e-05]\n",
      "Particle 56: position = [4.99999224 5.9999823 ], velocity = [1.21058812e-05 2.29876657e-05]\n",
      "Particle 56: position = [4.99999226 5.99998232], velocity = [1.31503790e-05 2.46983461e-05]\n",
      "Particle 56: position = [4.99999227 5.99998235], velocity = [1.41882125e-05 2.64183568e-05]\n",
      "Particle 56: position = [4.99999228 5.99998238], velocity = [1.52187553e-05 2.81471004e-05]\n",
      "Particle 56: position = [4.9999923  5.99998241], velocity = [1.62413951e-05 2.98839556e-05]\n",
      "Particle 56: position = [4.99999232 5.99998244], velocity = [1.72555338e-05 3.16282777e-05]\n",
      "Particle 56: position = [4.99999234 5.99998247], velocity = [1.82605883e-05 3.33793993e-05]\n",
      "Particle 56: position = [4.99999236 5.99998251], velocity = [1.92559907e-05 3.51366306e-05]\n",
      "Particle 56: position = [4.99999238 5.99998254], velocity = [2.02411893e-05 3.68992607e-05]\n",
      "Particle 56: position = [4.9999924  5.99998258], velocity = [2.12156483e-05 3.86665577e-05]\n",
      "Particle 56: position = [4.99999242 5.99998262], velocity = [2.21788487e-05 4.04377699e-05]\n",
      "Particle 56: position = [4.99999244 5.99998266], velocity = [2.31302886e-05 4.22121262e-05]\n",
      "Particle 56: position = [4.99999247 5.99998271], velocity = [2.40694834e-05 4.39888375e-05]\n",
      "Particle 56: position = [4.99999249 5.99998275], velocity = [2.49959661e-05 4.57670971e-05]\n",
      "Particle 56: position = [4.99999252 5.9999828 ], velocity = [2.59092876e-05 4.75460816e-05]\n",
      "Particle 56: position = [4.99999254 5.99998285], velocity = [2.68090172e-05 4.93249522e-05]\n",
      "Particle 56: position = [4.99999257 5.9999829 ], velocity = [2.76947422e-05 5.11028554e-05]\n",
      "Particle 56: position = [4.9999926  5.99998295], velocity = [2.85660686e-05 5.28789240e-05]\n",
      "Particle 56: position = [4.99999263 5.99998301], velocity = [2.94226210e-05 5.46522783e-05]\n",
      "Particle 56: position = [4.99999266 5.99998307], velocity = [3.02640429e-05 5.64220270e-05]\n",
      "Particle 56: position = [4.99999269 5.99998312], velocity = [3.10899964e-05 5.81872682e-05]\n",
      "Particle 56: position = [4.99999272 5.99998318], velocity = [3.19001629e-05 5.99470907e-05]\n",
      "Particle 56: position = [4.99999276 5.99998325], velocity = [3.26942422e-05 6.17005750e-05]\n",
      "Particle 56: position = [4.99999279 5.99998331], velocity = [3.34719535e-05 6.34467946e-05]\n",
      "Particle 56: position = [4.99999282 5.99998337], velocity = [3.42330344e-05 6.51848168e-05]\n",
      "Particle 56: position = [4.99999286 5.99998344], velocity = [3.49772417e-05 6.69137043e-05]\n",
      "Particle 56: position = [4.99999289 5.99998351], velocity = [3.57043507e-05 6.86325161e-05]\n",
      "Particle 56: position = [4.99999293 5.99998358], velocity = [3.64141551e-05 7.03403087e-05]\n",
      "Particle 56: position = [4.99999297 5.99998365], velocity = [3.71064675e-05 7.20361375e-05]\n",
      "Particle 56: position = [4.99999301 5.99998373], velocity = [3.77811182e-05 7.37190579e-05]\n",
      "Particle 56: position = [4.99999304 5.9999838 ], velocity = [3.84379561e-05 7.53881266e-05]\n",
      "Particle 56: position = [4.99999308 5.99998388], velocity = [3.90768473e-05 7.70424025e-05]\n",
      "Particle 56: position = [4.99999312 5.99998396], velocity = [3.96976761e-05 7.86809484e-05]\n",
      "Particle 56: position = [4.99999316 5.99998404], velocity = [4.03003438e-05 8.03028320e-05]\n",
      "Particle 56: position = [4.9999932  5.99998412], velocity = [4.08847686e-05 8.19071270e-05]\n",
      "Particle 56: position = [4.99999325 5.9999842 ], velocity = [4.14508858e-05 8.34929146e-05]\n",
      "Particle 56: position = [4.99999329 5.99998429], velocity = [4.19986467e-05 8.50592844e-05]\n",
      "Particle 56: position = [4.99999333 5.99998437], velocity = [4.25280188e-05 8.66053360e-05]\n",
      "Particle 56: position = [4.99999337 5.99998446], velocity = [4.30389854e-05 8.81301798e-05]\n",
      "Particle 56: position = [4.99999342 5.99998455], velocity = [4.35315449e-05 8.96329385e-05]\n",
      "Particle 56: position = [4.99999346 5.99998464], velocity = [4.40057106e-05 9.11127479e-05]\n",
      "Particle 56: position = [4.99999351 5.99998474], velocity = [4.44615103e-05 9.25687585e-05]\n"
     ]
    }
   ],
   "source": [
    "lj_sim.anim_pygame_interactive()"
   ]
  },
  {
   "cell_type": "markdown",
   "id": "b9d1ad02",
   "metadata": {},
   "source": [
    "**Does the simulation that you produced correspond to the qualitative description of a liquid given in the previous paragraph?**.\n",
    "\n",
    "### Energy loss - the solid phase\n",
    "The system of particles here is approximately conservative, and so the temperature of the material (or rather the sum of the kinetic energy and potential energy) should remain constant (you can verify this fact if you wish): there is nowhere for that energy to go.  However, in real systems, heat is transferred from warm things to cool things.  In a macroscopic sense, this process is what you modelled with the coffee cup problem in Homework 1.  We can also do it in a microscopic sense here by including a non-conservative drag force of the form \n",
    "$$\\mathbf{F}_d = -c_d \\mathbf{v}.$$\n",
    "Such a force is phenomenological, and not grounded in any physical principle, but roughly corresponds to the notion that kinetic energy should be lost to the surrounding medium (which we take to be at absolute zero) proportional to velocity.  **Modify your problem class to include such a drag force.  First, repeat the simulation above, but with a drag coefficient somewhere between 1 and 10.  Describe the configuration of the particles at the end of this simulation ([This](https://en.wikipedia.org/wiki/Close-packing_of_equal_spheres)) might be some helpful context).  Second, plot the temperature as a function of time and comment on how the shape of the curve compares to that of the cooling coffee cup from the homework.**\n",
    "\n",
    "\n"
   ]
  },
  {
   "cell_type": "code",
   "execution_count": null,
   "id": "e21aa881",
   "metadata": {},
   "outputs": [],
   "source": []
  },
  {
   "cell_type": "markdown",
   "id": "42eb1a01",
   "metadata": {},
   "source": [
    "### Group self-assessment\n",
    "This assignment is the culmination of our exploration of Newtonian physics, and we will be switching groups after this assignment.  Please describe the challenges and triumphs associated with completing this project.  Also, please describe how each group member contributed to the final project.\n"
   ]
  },
  {
   "cell_type": "code",
   "execution_count": null,
   "id": "36f7be28",
   "metadata": {},
   "outputs": [],
   "source": []
  }
 ],
 "metadata": {
  "kernelspec": {
   "display_name": "Python 3 (ipykernel)",
   "language": "python",
   "name": "python3"
  },
  "language_info": {
   "codemirror_mode": {
    "name": "ipython",
    "version": 3
   },
   "file_extension": ".py",
   "mimetype": "text/x-python",
   "name": "python",
   "nbconvert_exporter": "python",
   "pygments_lexer": "ipython3",
   "version": "3.12.1"
  }
 },
 "nbformat": 4,
 "nbformat_minor": 5
}
