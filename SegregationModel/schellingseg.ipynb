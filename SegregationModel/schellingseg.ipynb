{
 "cells": [
  {
   "cell_type": "code",
   "execution_count": null,
   "metadata": {},
   "outputs": [],
   "source": [
    "import numpy as np\n",
    "import matplotlib.pyplot as plt\n",
    "import matplotlib.animation as anim\n",
    "\n",
    "# Schelling's segregation model\n",
    "# https://en.wikipedia.org/wiki/Schelling%27s_model_of_segregation"
   ]
  },
  {
   "cell_type": "code",
   "execution_count": 129,
   "metadata": {},
   "outputs": [],
   "source": [
    "# function to create the board\n",
    "def create_board(N):\n",
    "    board = np.random.choice([1,0,-1], N*N, p=[1/3,1/3,1/3]).reshape(N,N)\n",
    "    return board\n",
    "\n",
    "# function to update the board\n",
    "def update_board(board, N, threshold):\n",
    "    # create a copy of the board\n",
    "    new_board = board.copy()\n",
    "    # we update the board 1 random cell at a time and return the new board\n",
    "    # select a random cell\n",
    "    i = np.random.randint(N)\n",
    "    j = np.random.randint(N)\n",
    "    # if the cell is empty, select another cell\n",
    "    while board[i,j] == 0:\n",
    "        i = np.random.randint(N)\n",
    "        j = np.random.randint(N)\n",
    "    # if the cell is occupied, check how many non-empty neighbors it has (edge cases don't count)\n",
    "    non_empty_n = np.sum(board[max(0,i-1):min(N,i+2), max(0,j-1):min(N,j+2)] != 0) - 1 # -1 to remove the cell itself, max(0, i-1) to avoid negative indices when i = 0\n",
    "    # get cell type\n",
    "    cell_type = board[i,j]\n",
    "    # get the number of like neighbors\n",
    "    like_n = np.sum(board[max(0,i-1):min(N,i+2), max(0,j-1):min(N,j+2)] == cell_type) - 1\n",
    "    # create f\n",
    "    f = like_n / non_empty_n\n",
    "    # print(f)\n",
    "    # if f < threshold, move the cell to a random empty cell\n",
    "    if f < threshold:\n",
    "        # find all empty cells\n",
    "        empty_cells = np.argwhere(board == 0) # argwhere returns the indices of the elements equal to 0 in this case (list of indices)\n",
    "        # select a random empty cell\n",
    "        empty_cell = empty_cells[np.random.randint(len(empty_cells))] # select a random empty cell\n",
    "        # move the cell to the empty cell\n",
    "        new_board[empty_cell[0], empty_cell[1]] = cell_type # move the cell\n",
    "        new_board[i,j] = 0 # remove the cell from its original position\n",
    "    # return the new board\n",
    "    return new_board\n",
    "\n",
    "# function to plot the board\n",
    "def plot_board(board, N, threshold):\n",
    "    # create a figure\n",
    "    fig = plt.figure()\n",
    "    # create an axis\n",
    "    ax = fig.add_subplot(111)\n",
    "    # plot the board\n",
    "    ax.imshow(board, cmap='bwr', vmin=-1, vmax=1)\n",
    "    # set the title\n",
    "    ax.set_title('Schelling\\'s segregation model (threshold = {})'.format(threshold))\n",
    "    # remove the axis\n",
    "    ax.axis('off')\n",
    "    # show the plot\n",
    "    plt.show()"
   ]
  },
  {
   "cell_type": "code",
   "execution_count": 132,
   "metadata": {},
   "outputs": [
    {
     "data": {
      "image/png": "[encoded data removed]",
      "text/plain": [
       "<Figure size 1000x1000 with 1 Axes>"
      ]
     },
     "metadata": {},
     "output_type": "display_data"
    }
   ],
   "source": [
    "SIZE = 20\n",
    "THRESH = 1/3\n",
    "board = create_board(SIZE)\n",
    "board_list = []\n",
    "for i in range(1000):\n",
    "    board_list.append(board)\n",
    "    board = update_board(board, SIZE, THRESH)\n",
    "\n",
    "fig, ax = plt.subplots()\n",
    "# change size of figure\n",
    "fig.set_size_inches(10, 10)\n",
    "im = ax.imshow(board_list[0], interpolation='nearest')\n",
    "# change colors to red and blue\n",
    "im.set_cmap('bwr')\n",
    "\n",
    "def animate_func(i):\n",
    "    im.set_array(board_list[i])\n",
    "    return [im]\n",
    "\n",
    "animation = anim.FuncAnimation(fig, animate_func, frames=len(board_list), interval=10, blit=True)\n",
    "animation.save('segreg_cell_1.mp4', fps=30)"
   ]
  }
 ],
 "metadata": {
  "kernelspec": {
   "display_name": "simenv",
   "language": "python",
   "name": "python3"
  },
  "language_info": {
   "codemirror_mode": {
    "name": "ipython",
    "version": 3
   },
   "file_extension": ".py",
   "mimetype": "text/x-python",
   "name": "python",
   "nbconvert_exporter": "python",
   "pygments_lexer": "ipython3",
   "version": "3.12.1"
  },
  "orig_nbformat": 4
 },
 "nbformat": 4,
 "nbformat_minor": 2
}
