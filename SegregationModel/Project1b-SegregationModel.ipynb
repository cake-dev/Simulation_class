{
 "cells": [
  {
   "cell_type": "markdown",
   "id": "228cb73f-dbab-4cb0-9753-89cccf7fbfba",
   "metadata": {},
   "source": [
    "# Group project 1b - Schelling's Segregation Model\n",
    "\n",
    "While Conway's Game of Life is an interesting example of complex dynamics emerging from simple rules, it has no specific physical relevance.  However, other cellular automata can be used to model systems that occur in the real world, or at the very least their qualitative dynamics.  One such model is [Schelling's model of segregation](https://www.tandfonline.com/doi/abs/10.1080/0022250X.1971.9989794), which was developed by economist Thomas Schelling in 1971.  By this period in American history, housing discrimination had been nominally outlawed, and schools had (again, nominally) integrated.  However, Schelling still observed significant geographic segregation, particularly along racial lines in America.  In an effort to explain this phenomenon in as simple terms as possible, Schelling posited a model with the following rules for a game played on an NxN board (same as GoL).  \n",
    "- The board contains pixels of one of three types, group 1 (which I like to encode as 1), group 2 (which I encode as -1), and empty.  The initial conditions can be varied, but we usually start with a random distribution of the groups (though not necessarily in equal proportions) \n",
    "- At each turn, we loop through all agents (I prefer to do this in random order).  Each agent counts its neighbors and if the fraction of neighbors (ignorning empty spaces) of the *opposite* type exceeds a certain threshold (Schelling thought that $1/3$ was a particularly interesting threshold), then the agent moves to a random vacant space elsewhere on the board, leaving its former location vacant.  Note that unlike Game of Life, the boards state is changing continuously rather than all at once following processing.\n",
    "- Squares outside the grid are treated as vacant for the purpose of counting neighbors.  \n",
    "  \n",
    "That's pretty much it (an alternative description can be found on the [wikipedia page](https://en.wikipedia.org/wiki/Schelling%27s_model_of_segregation)).  **Your task is to code and visualize Schelling's model**.  This should be somewhat similar to (though not exactly the same as) GoL.  Explore some different 'satisfaction thresholds' and briefly describe the different qualitative behaviors that emerge for different choices.  \n",
    "\n",
    "A quick note: one challenge is keeping track of the empty spaces that an agent can move to.  While it is possible to do some kind of random search of the board for an empty space, this is probably not a very efficient approach.  Take a moment to think about how you can keep a dynamic record of which spaces are open.  Harkening back to Data Structures, in my implementation I used a random bag for this.  If you opt to do a random traversal of the occupied spaces, you will need to do something similar.    \n"
   ]
  },
  {
   "cell_type": "code",
   "execution_count": null,
   "id": "3940d849-e9e1-4333-91fb-ab9a94e18843",
   "metadata": {},
   "outputs": [],
   "source": []
  }
 ],
 "metadata": {
  "kernelspec": {
   "display_name": "Python 3 (ipykernel)",
   "language": "python",
   "name": "python3"
  },
  "language_info": {
   "codemirror_mode": {
    "name": "ipython",
    "version": 3
   },
   "file_extension": ".py",
   "mimetype": "text/x-python",
   "name": "python",
   "nbconvert_exporter": "python",
   "pygments_lexer": "ipython3",
   "version": "3.11.5"
  }
 },
 "nbformat": 4,
 "nbformat_minor": 5
}
