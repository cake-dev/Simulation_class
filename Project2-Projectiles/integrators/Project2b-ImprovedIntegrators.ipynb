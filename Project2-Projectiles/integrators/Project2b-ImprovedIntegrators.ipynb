{
 "cells": [
  {
   "cell_type": "markdown",
   "id": "d56ef548",
   "metadata": {},
   "source": [
    "# Project 2b - Projectile Motion : Improved Integrators and a unified interface\n",
    "\n",
    "## Due 2/13\n",
    "\n",
    "We have now seen a few different versions of the particle motion problem: one for 1D motion without drag, one for 1D motion with drag, and then an extension to 2D motion with drag.  All of these equations have something in common, which is that they can be written in the form\n",
    "$$\n",
    "\\frac{d \\mathbf{u}}{d t} = \\mathcal{F}(t,\\mathbf{u})\n",
    "$$\n",
    "with $\\mathbf{u}$ being a vector of state variables (for example, position and velocity in one or two or more directions), and $\\mathcal{F}$ representing the right hand sides of the equations of motion.  For example in 2D drag, we might write\n",
    "$$\n",
    "\\mathbf{u} = \\begin{bmatrix} x \\\\ v_x \\\\ z \\\\ v_z \\end{bmatrix}\n",
    "$$\n",
    "and \n",
    "$$\n",
    "\\mathcal{F}(t,\\mathbf{u}) = \\begin{bmatrix} v_x \\\\ \n",
    "                                        -\\frac{c_d}{m} \\sqrt{v_x^2 + v_z^2} \\;v_x  \\\\\n",
    "                                        v_z \\\\\n",
    "                                        g -\\frac{c_d}{m} \\sqrt{v_x^2 + v_z^2} \\;v_z \\end{bmatrix}.\n",
    "$$\n",
    "Indeed, many important scenarios that we may wish to model, ranging from Newtonian physics to population dynamics and beyond fall within this framework.  Because we will be modelling many such systems, it will be helpful to develop a convenient framework for operating on such systems.  In particular, we would like to develop an object oriented framework for working with these problems so that we can reuse as much code as possible (while also keeping our code nice).  We will continue to modify these methods as we require additional functionality, but these will form a good start.  \n",
    "\n",
    "### A class for problem specification\n",
    "Our first task will be to create a python class representing our problem.  This doesn't really need to do much: all it really needs to return is the function $\\mathcal{F}(t,\\mathbf{u})$ and to store any information relevant to the class.  As an example, I've provided a class for the drag-free 1D particle motion equation.  **Create a new class using the existing one as a template that implements the 2D equations with drag.**  "
   ]
  },
  {
   "cell_type": "code",
   "execution_count": 3,
   "id": "b6e6a3a8",
   "metadata": {},
   "outputs": [],
   "source": [
    "import numpy as np\n",
    "import matplotlib.pyplot as plt"
   ]
  },
  {
   "cell_type": "code",
   "execution_count": 4,
   "id": "ed3ee426",
   "metadata": {},
   "outputs": [],
   "source": [
    "class ParticleMotion1D:\n",
    "    \"\"\" This is an example class for an ODE specification\"\"\"\n",
    "    \n",
    "    def __init__(self,g=-9.81):\n",
    "        \n",
    "        self.n_dof = 2\n",
    "        self.g = g\n",
    "        \n",
    "    def rhs(self,t,u):\n",
    "        # the right hand side of the ode (or $\\mathcal{F}(t,u)$)\n",
    "        dudt = np.zeros(self.n_dof)\n",
    "        dudt[0] = u[1]\n",
    "        dudt[1] = self.g\n",
    "        return dudt\n",
    "    \n",
    "class ParticleMotion2DWithDrag:\n",
    "    \n",
    "    def __init__(self, g=-9.81, c=1.0, m=1.0):\n",
    "        self.n_dof = 4  # number of degrees of freedom\n",
    "        self.g = g  # acceleration due to gravity\n",
    "        self.c = c  # drag coefficient\n",
    "        self.m = m  # mass of the particle\n",
    "\n",
    "    def rhs(self, t, u):\n",
    "        # the right hand side of the ode (or $\\mathcal{F}(t,u)$)\n",
    "        dudt = np.zeros(self.n_dof)\n",
    "        dudt[0] = u[1]  # dx/dt = vx (velocity is the derivative of position)\n",
    "        dudt[1] = -self.c / self.m * np.sqrt(u[1]**2 + u[3]**2) * u[1]  # dvx/dt = -c/m * sqrt(vx^2 + vz^2) * vx (drag force)\n",
    "        dudt[2] = u[3]  # dz/dt = vz \n",
    "        dudt[3] = self.g - self.c / self.m * np.sqrt(u[1]**2 + u[3]**2) * u[3]  # dvz/dt = g - c/m * sqrt(vx^2 + vz^2) * vz \n",
    "        return dudt\n",
    "    "
   ]
  },
  {
   "cell_type": "markdown",
   "id": "13a8cfbb",
   "metadata": {},
   "source": [
    "### A class for time stepping\n",
    "We will also be utilizing multiple different methods for performing numerical integration.  One simple choice is Euler's method.  A reasonable class for doing this might be\n",
    "\n"
   ]
  },
  {
   "cell_type": "code",
   "execution_count": 5,
   "id": "abb9d62d",
   "metadata": {},
   "outputs": [],
   "source": [
    "class Euler:\n",
    "    def __init__(self):\n",
    "        pass   \n",
    "    \n",
    "    def step(self,ode,t,dt,u_0):\n",
    "        u_1 = u_0 + dt*ode.rhs(t,u_0)\n",
    "        return u_1"
   ]
  },
  {
   "cell_type": "markdown",
   "id": "9b3cf144",
   "metadata": {},
   "source": [
    "Note that there is no reference to particle motion or to any other particular problem specifically: all this requires is the current time, the desired time step, the initial state, and the object representing the problem.  Thus, one could easily use either my implementation of the simple 1D particle or your implementation of the 2D particle *with no modification to the code* (assuming that shapes are all correct, which is something one might wish to check).  This modularity is, obviously, highly desirable.  We can also view this class as a template for more performant time-stepping schemes such as the Runge-Kutta methods.  Heun's method (a variant on Runge-Kutta 2) is defined as \n",
    "$$\n",
    "\\mathbf{u}_{n+1} = \\mathbf{u}_n + \\frac{\\Delta t}{2}(k_1 + k_2)\n",
    "$$\n",
    "$$\n",
    "k_1 = \\mathcal{F}(t,\\mathbf{u}_n)\n",
    "$$\n",
    "$$\n",
    "k_2 = \\mathcal{F}(t + \\Delta t, \\mathbf{u}_n + \\Delta t k_1)\n",
    "$$\n",
    "**Adapt the above class to implement Heun's method**\n",
    "\n"
   ]
  },
  {
   "cell_type": "code",
   "execution_count": 6,
   "id": "037db6d3",
   "metadata": {},
   "outputs": [],
   "source": [
    "class Heun:\n",
    "    def __init__(self):\n",
    "        pass   \n",
    "    \n",
    "    def step(self,ode,t,dt,u_0):\n",
    "        # Do some stuff here\n",
    "        k1 = ode.rhs(t,u_0)\n",
    "        k2 = ode.rhs(t+dt,u_0+dt*k1)\n",
    "        u_1 = u_0 + 0.5*dt*(k1+k2)\n",
    "        return u_1"
   ]
  },
  {
   "cell_type": "markdown",
   "id": "929d9cff",
   "metadata": {},
   "source": [
    "**Also implement RK4** (Gould Eqs. 3.59, 3.60)"
   ]
  },
  {
   "cell_type": "markdown",
   "id": "595bfbc4",
   "metadata": {},
   "source": [
    "RK4:\n",
    "\n",
    "$$\n",
    "\\mathbf{u}_{n+1} = \\mathbf{u}_n + \\frac{\\Delta t}{6}(k_1 + 2k_2 + 2k_3 + k_4)\n",
    "$$\n",
    "\n",
    "$$\n",
    "k_1 = \\mathcal{F}(t,\\mathbf{u}_n)\n",
    "$$\n",
    "\n",
    "$$\n",
    "k_2 = \\mathcal{F}(t + \\frac{\\Delta t}{2}, \\mathbf{u}_n + \\frac{\\Delta t}{2} k_1)\n",
    "$$\n",
    "\n",
    "$$\n",
    "k_3 = \\mathcal{F}(t + \\frac{\\Delta t}{2}, \\mathbf{u}_n + \\frac{\\Delta t}{2} k_2)\n",
    "$$\n",
    "\n",
    "$$\n",
    "k_4 = \\mathcal{F}(t + \\Delta t, \\mathbf{u}_n + \\Delta t k_3)\n",
    "$$\n",
    "\n",
    "I rewrote the formulas to include the outer $\\Delta t$ inside the parentheses to make it easier."
   ]
  },
  {
   "cell_type": "code",
   "execution_count": 7,
   "id": "8d3ac429",
   "metadata": {},
   "outputs": [],
   "source": [
    "class RK4:\n",
    "    def __init__(self):\n",
    "        pass   \n",
    "    \n",
    "    def step(self,ode,t,dt,u_0):\n",
    "        # Do some stuff here\n",
    "        k1 = ode.rhs(t,u_0)\n",
    "        k2 = ode.rhs(t+0.5*dt,u_0+0.5*dt*k1)\n",
    "        k3 = ode.rhs(t+0.5*dt,u_0+0.5*dt*k2)\n",
    "        k4 = ode.rhs(t+dt,u_0+dt*k3)\n",
    "        u_1 = u_0 + dt/6*(k1+2*k2+2*k3+k4)\n",
    "        return u_1"
   ]
  },
  {
   "cell_type": "markdown",
   "id": "d2f84d38",
   "metadata": {},
   "source": [
    "Finally, the typical use case for these objects is to perform an integration over multiple time steps, and its nice to contain such operations in a class.  A reasonable implementation of such a thing might look like:"
   ]
  },
  {
   "cell_type": "code",
   "execution_count": 8,
   "id": "2663cb9c",
   "metadata": {},
   "outputs": [],
   "source": [
    "class Integrator:\n",
    "    def __init__(self,ode,method): # ode is provided as one of the ParticleMotion classes, method is one of the integrator classes\n",
    "        self.ode = ode # store the ode\n",
    "        self.method = method # store the method\n",
    "        \n",
    "    def integrate(self,interval,dt,u_0): # interval is a list [t_0,t_end], dt is the time step, u_0 is the initial state\n",
    "        t_0 = interval[0] # initial time\n",
    "        t_end = interval[1] # final time\n",
    "        \n",
    "        times = [t_0] # list to store the times\n",
    "        states = [u_0] # list to store the states\n",
    "        \n",
    "        t = t_0 # current time\n",
    "        while t<t_end: # loop over the time interval\n",
    "            dt_ = min(dt,t_end-t) # time step\n",
    "            u_1 = self.method.step(self.ode,t,dt_,u_0) # integrate the ODE\n",
    "            t = t + dt_ # update the time\n",
    "            u_0 = u_1 # update the state\n",
    "            \n",
    "            times.append(t) # store the time\n",
    "            states.append(u_1) # store the state\n",
    "            \n",
    "        return np.array(times),np.array(states) # return the times and states as numpy arrays"
   ]
  },
  {
   "cell_type": "markdown",
   "id": "6a575129",
   "metadata": {},
   "source": [
    "No modifications to the above code are needed at this stage, but I would like you to **go through it, line by line, and add comments describing what all of the elements are doing**.  This should be straightforward, as I hope that it looks very much like some code that you've already written.  \n",
    "\n",
    "An example of all of these components working together is"
   ]
  },
  {
   "cell_type": "code",
   "execution_count": 16,
   "id": "0ffa4111",
   "metadata": {},
   "outputs": [
    {
     "data": {
      "image/png": "[encoded data removed]",
      "text/plain": [
       "<Figure size 640x480 with 1 Axes>"
      ]
     },
     "metadata": {},
     "output_type": "display_data"
    }
   ],
   "source": [
    "pm = ParticleMotion1D()\n",
    "method = Euler()\n",
    "integrator = Integrator(pm,method)\n",
    "\n",
    "t_0 = 0.0\n",
    "t_end = 1.1\n",
    "dt = 0.01\n",
    "z_0 = 0.0\n",
    "v_0 = 5.0\n",
    "t,u = integrator.integrate([t_0,t_end],dt,np.array([z_0,v_0]))\n",
    "\n",
    "plt.plot(t,u[:,0])\n",
    "plt.xlabel('Time')\n",
    "plt.ylabel('Position')\n",
    "plt.show()"
   ]
  },
  {
   "cell_type": "markdown",
   "id": "4ec17078",
   "metadata": {},
   "source": [
    "**Verify your implementations by testing similar code to the above block with all different combinations of problems and time stepping schemes.**  Note that if your improved time-stepping schemes are working, a particle integrated using RK2 or RK4 with relatively large time steps (say $\\Delta t=0.1$ should end up in a very similar place to one integrated with Euler's method with a very small time step (which is implemented correctly) (say $\\Delta t=.001$)."
   ]
  },
  {
   "cell_type": "code",
   "execution_count": 10,
   "id": "ab76e77b",
   "metadata": {},
   "outputs": [
    {
     "data": {
      "image/png": "[encoded data removed]",
      "text/plain": [
       "<Figure size 1200x600 with 2 Axes>"
      ]
     },
     "metadata": {},
     "output_type": "display_data"
    },
    {
     "data": {
      "image/png": "[encoded data removed]",
      "text/plain": [
       "<Figure size 600x600 with 2 Axes>"
      ]
     },
     "metadata": {},
     "output_type": "display_data"
    }
   ],
   "source": [
    "pm = ParticleMotion2DWithDrag()\n",
    "method = Euler()\n",
    "integrator = Integrator(pm, method)\n",
    "\n",
    "# Initial conditions\n",
    "t_0 = 0.0\n",
    "t_end = 1.1\n",
    "dt = 0.01\n",
    "x_0 = 0.0\n",
    "vx_0 = 5.0\n",
    "z_0 = 0.0\n",
    "vz_0 = 5.0\n",
    "u_0 = np.array([x_0, vx_0, z_0, vz_0])\n",
    "\n",
    "# Perform the integration\n",
    "t, u = integrator.integrate([t_0, t_end], dt, u_0)\n",
    "\n",
    "# 2 plots side by side, one for x(t) and one for z(t)\n",
    "fig, ax = plt.subplots(1, 2, figsize=(12, 6))\n",
    "ax[0].plot(t, u[:, 0])\n",
    "ax[0].set_xlabel('Time')\n",
    "ax[0].set_ylabel('x(t)')\n",
    "ax[1].plot(t, u[:, 2])\n",
    "ax[1].set_xlabel('Time')\n",
    "ax[1].set_ylabel('z(t)')\n",
    "# title with relevant information\n",
    "fig.suptitle('Particle trajectories as a function of time\\n' + r'$x_0 = 0$, $v_{x0} = 5$, $z_0 = 0$, $v_{z0} = 5$, $c = 1$, $m = 1$')\n",
    "plt.show()\n",
    "# plot z and x togehter, colored arrows by time\n",
    "fig, ax = plt.subplots(1, 1, figsize=(6, 6))\n",
    "colormap = 'viridis'\n",
    "# ax.plot(u[:, 0], u[:, 2])\n",
    "ax.set_xlabel('x(t)')\n",
    "ax.set_ylabel('z(t)')\n",
    "ax.set_title('Particle trajectory')\n",
    "ax.quiver(u[:, 0][::4], u[:, 2][::4], u[:, 1][::4], u[:, 3][::4], t[::4], cmap=colormap)\n",
    "# add colorbar\n",
    "sm = plt.cm.ScalarMappable(cmap=colormap, norm=plt.Normalize(vmin=t[0], vmax=t[-1]))\n",
    "sm._A = []\n",
    "cbar = plt.colorbar(sm, ax=ax)\n",
    "cbar.set_label('Time')\n",
    "plt.show()"
   ]
  },
  {
   "cell_type": "code",
   "execution_count": 11,
   "id": "bbc4b04e",
   "metadata": {},
   "outputs": [
    {
     "data": {
      "image/png": "[encoded data removed]",
      "text/plain": [
       "<Figure size 1200x600 with 2 Axes>"
      ]
     },
     "metadata": {},
     "output_type": "display_data"
    },
    {
     "data": {
      "image/png": "[encoded data removed]",
      "text/plain": [
       "<Figure size 600x600 with 2 Axes>"
      ]
     },
     "metadata": {},
     "output_type": "display_data"
    }
   ],
   "source": [
    "pm = ParticleMotion2DWithDrag()\n",
    "method = Heun()\n",
    "integrator = Integrator(pm, method)\n",
    "\n",
    "# Initial conditions\n",
    "t_0 = 0.0\n",
    "t_end = 1.1\n",
    "dt = 0.01\n",
    "x_0 = 0.0\n",
    "vx_0 = 5.0\n",
    "z_0 = 0.0\n",
    "vz_0 = 5.0\n",
    "u_0 = np.array([x_0, vx_0, z_0, vz_0])\n",
    "\n",
    "# Perform the integration\n",
    "t, u = integrator.integrate([t_0, t_end], dt, u_0)\n",
    "\n",
    "# 2 plots side by side, one for x(t) and one for z(t)\n",
    "fig, ax = plt.subplots(1, 2, figsize=(12, 6))\n",
    "ax[0].plot(t, u[:, 0])\n",
    "ax[0].set_xlabel('Time')\n",
    "ax[0].set_ylabel('x(t)')\n",
    "ax[1].plot(t, u[:, 2])\n",
    "ax[1].set_xlabel('Time')\n",
    "ax[1].set_ylabel('z(t)')\n",
    "# title with relevant information\n",
    "fig.suptitle('Particle trajectories as a function of time\\n' + r'$x_0 = 0$, $v_{x0} = 5$, $z_0 = 0$, $v_{z0} = 5$, $c = 1$, $m = 1$')\n",
    "plt.show()\n",
    "# plot z and x togehter, colored arrows by time\n",
    "fig, ax = plt.subplots(1, 1, figsize=(6, 6))\n",
    "colormap = 'viridis'\n",
    "# ax.plot(u[:, 0], u[:, 2])\n",
    "ax.set_xlabel('x(t)')\n",
    "ax.set_ylabel('z(t)')\n",
    "ax.set_title('Particle trajectory')\n",
    "ax.quiver(u[:, 0][::4], u[:, 2][::4], u[:, 1][::4], u[:, 3][::4], t[::4], cmap=colormap)\n",
    "# add colorbar\n",
    "sm = plt.cm.ScalarMappable(cmap=colormap, norm=plt.Normalize(vmin=t[0], vmax=t[-1]))\n",
    "sm._A = []\n",
    "cbar = plt.colorbar(sm, ax=ax)\n",
    "cbar.set_label('Time')\n",
    "plt.show()"
   ]
  },
  {
   "cell_type": "code",
   "execution_count": 12,
   "id": "68cdd36c",
   "metadata": {},
   "outputs": [
    {
     "data": {
      "application/vnd.plotly.v1+json": {
       "config": {
        "displayModeBar": false,
        "plotlyServerURL": "https://plot.ly",
        "scrollZoom": false
       },
       "data": [
        {
         "mode": "lines",
         "name": "x(t)",
         "type": "scatter",
         "x": [
          0,
          0.01,
          0.02,
          0.03,
          0.04,
          0.05,
          0.060000000000000005,
          0.07,
          0.08,
          0.09,
          0.09999999999999999,
          0.10999999999999999,
          0.11999999999999998,
          0.12999999999999998,
          0.13999999999999999,
          0.15,
          0.16,
          0.17,
          0.18000000000000002,
          0.19000000000000003,
          0.20000000000000004,
          0.21000000000000005,
          0.22000000000000006,
          0.23000000000000007,
          0.24000000000000007,
          0.25000000000000006,
          0.26000000000000006,
          0.2700000000000001,
          0.2800000000000001,
          0.2900000000000001,
          0.3000000000000001,
          0.3100000000000001,
          0.3200000000000001,
          0.3300000000000001,
          0.34000000000000014,
          0.35000000000000014,
          0.36000000000000015,
          0.37000000000000016,
          0.38000000000000017,
          0.3900000000000002,
          0.4000000000000002,
          0.4100000000000002,
          0.4200000000000002,
          0.4300000000000002,
          0.4400000000000002,
          0.45000000000000023,
          0.46000000000000024,
          0.47000000000000025,
          0.48000000000000026,
          0.49000000000000027,
          0.5000000000000002,
          0.5100000000000002,
          0.5200000000000002,
          0.5300000000000002,
          0.5400000000000003,
          0.5500000000000003,
          0.5600000000000003,
          0.5700000000000003,
          0.5800000000000003,
          0.5900000000000003,
          0.6000000000000003,
          0.6100000000000003,
          0.6200000000000003,
          0.6300000000000003,
          0.6400000000000003,
          0.6500000000000004,
          0.6600000000000004,
          0.6700000000000004,
          0.6800000000000004,
          0.6900000000000004,
          0.7000000000000004,
          0.7100000000000004,
          0.7200000000000004,
          0.7300000000000004,
          0.7400000000000004,
          0.7500000000000004,
          0.7600000000000005,
          0.7700000000000005,
          0.7800000000000005,
          0.7900000000000005,
          0.8000000000000005,
          0.8100000000000005,
          0.8200000000000005,
          0.8300000000000005,
          0.8400000000000005,
          0.8500000000000005,
          0.8600000000000005,
          0.8700000000000006,
          0.8800000000000006,
          0.8900000000000006,
          0.9000000000000006,
          0.9100000000000006,
          0.9200000000000006,
          0.9300000000000006,
          0.9400000000000006,
          0.9500000000000006,
          0.9600000000000006,
          0.9700000000000006,
          0.9800000000000006,
          0.9900000000000007,
          1.0000000000000007,
          1.0100000000000007,
          1.0200000000000007,
          1.0300000000000007,
          1.0400000000000007,
          1.0500000000000007,
          1.0600000000000007,
          1.0700000000000007,
          1.0800000000000007,
          1.0900000000000007,
          1.1
         ],
         "y": [
          0,
          0.04823223304703363,
          0.09342593463389948,
          0.13596706835012123,
          0.17617425703835765,
          0.21431350964071016,
          0.25060913646177274,
          0.2852519740444401,
          0.3184056750255513,
          0.3502115824709503,
          0.38079255269341344,
          0.41025598595645213,
          0.4386962528004079,
          0.46619665379697434,
          0.4928310152166745,
          0.5186649977563038,
          0.5437571770660783,
          0.5681599412895483,
          0.5919202407865599,
          0.6150802176851832,
          0.6376777372257897,
          0.6597468385380996,
          0.6813181191824762,
          0.7024190652345421,
          0.7230743367056112,
          0.7433060165234167,
          0.7631338300330349,
          0.7825753409257282,
          0.8016461285924419,
          0.8203599510757529,
          0.8387288970238364,
          0.8567635293147637,
          0.8744730223179219,
          0.8918652941037514,
          0.9089471343240436,
          0.9257243279856239,
          0.9422017749492682,
          0.9583836047132306,
          0.9742732858857878,
          0.9898737297021054,
          1.0051873869779189,
          1.0202163379922387,
          1.0349623749294297,
          1.0494270766660767,
          1.063611875842958,
          1.077518118305139,
          1.0911471151163596,
          1.1045001874541196,
          1.1175787047686592,
          1.1303841166438304,
          1.1429179788331303,
          1.155181973962914,
          1.1671779274000351,
          1.1789078187756923,
          1.1903737896435993,
          1.201578147730845,
          1.212523368215744,
          1.2232120924400107,
          1.23364712443386,
          1.2438314256030436,
          1.2537681078970753,
          1.2634604257485085,
          1.2729117670445351,
          1.2821256433646664,
          1.2911056796920704,
          1.2998556037814282,
          1.3083792353430446,
          1.3166804751814525,
          1.324763294406928,
          1.3326317238201622,
          1.3402898435537944,
          1.347741773039559,
          1.3549916613563542,
          1.3620436780025507,
          1.3689020041252353,
          1.375570824229728,
          1.3820543183845546,
          1.3883566549299908,
          1.3944819836922295,
          1.4004344297000837,
          1.4062180873968155,
          1.4118370153361148,
          1.4172952313483418,
          1.4225967081608368,
          1.4277453694543072,
          1.432745086335965,
          1.4375996742091537,
          1.4423128900186066,
          1.4468884298501772,
          1.4513299268638349,
          1.4556409495388725,
          1.4598250002106037,
          1.4638855138783056,
          1.467825857264739,
          1.4716493281082619,
          1.4753591546692908,
          1.4789584954336539,
          1.4824504389962119,
          1.4858380041089592,
          1.4891241398786765,
          1.4923117261000565,
          1.4954035737110651,
          1.4984024253581296,
          1.5013109560595497,
          1.5041317739563098,
          1.5068674211402222,
          1.5095203745500527,
          1.512093046926974,
          1.514587787821344,
          1.5170068846434355,
          1.5193525637513272
         ]
        },
        {
         "mode": "lines",
         "name": "z(t)",
         "type": "scatter",
         "x": [
          0,
          0.01,
          0.02,
          0.03,
          0.04,
          0.05,
          0.060000000000000005,
          0.07,
          0.08,
          0.09,
          0.09999999999999999,
          0.10999999999999999,
          0.11999999999999998,
          0.12999999999999998,
          0.13999999999999999,
          0.15,
          0.16,
          0.17,
          0.18000000000000002,
          0.19000000000000003,
          0.20000000000000004,
          0.21000000000000005,
          0.22000000000000006,
          0.23000000000000007,
          0.24000000000000007,
          0.25000000000000006,
          0.26000000000000006,
          0.2700000000000001,
          0.2800000000000001,
          0.2900000000000001,
          0.3000000000000001,
          0.3100000000000001,
          0.3200000000000001,
          0.3300000000000001,
          0.34000000000000014,
          0.35000000000000014,
          0.36000000000000015,
          0.37000000000000016,
          0.38000000000000017,
          0.3900000000000002,
          0.4000000000000002,
          0.4100000000000002,
          0.4200000000000002,
          0.4300000000000002,
          0.4400000000000002,
          0.45000000000000023,
          0.46000000000000024,
          0.47000000000000025,
          0.48000000000000026,
          0.49000000000000027,
          0.5000000000000002,
          0.5100000000000002,
          0.5200000000000002,
          0.5300000000000002,
          0.5400000000000003,
          0.5500000000000003,
          0.5600000000000003,
          0.5700000000000003,
          0.5800000000000003,
          0.5900000000000003,
          0.6000000000000003,
          0.6100000000000003,
          0.6200000000000003,
          0.6300000000000003,
          0.6400000000000003,
          0.6500000000000004,
          0.6600000000000004,
          0.6700000000000004,
          0.6800000000000004,
          0.6900000000000004,
          0.7000000000000004,
          0.7100000000000004,
          0.7200000000000004,
          0.7300000000000004,
          0.7400000000000004,
          0.7500000000000004,
          0.7600000000000005,
          0.7700000000000005,
          0.7800000000000005,
          0.7900000000000005,
          0.8000000000000005,
          0.8100000000000005,
          0.8200000000000005,
          0.8300000000000005,
          0.8400000000000005,
          0.8500000000000005,
          0.8600000000000005,
          0.8700000000000006,
          0.8800000000000006,
          0.8900000000000006,
          0.9000000000000006,
          0.9100000000000006,
          0.9200000000000006,
          0.9300000000000006,
          0.9400000000000006,
          0.9500000000000006,
          0.9600000000000006,
          0.9700000000000006,
          0.9800000000000006,
          0.9900000000000007,
          1.0000000000000007,
          1.0100000000000007,
          1.0200000000000007,
          1.0300000000000007,
          1.0400000000000007,
          1.0500000000000007,
          1.0600000000000007,
          1.0700000000000007,
          1.0800000000000007,
          1.0900000000000007,
          1.1
         ],
         "y": [
          0,
          0.047741733047033635,
          0.0915268662914096,
          0.1317908662169907,
          0.1688926045934729,
          0.20313108836372057,
          0.23475786195688378,
          0.26398635581000657,
          0.29099903928646054,
          0.31595296825721053,
          0.33898414100418545,
          0.36021095731904323,
          0.37973699429532815,
          0.39765325562360015,
          0.4140400110976773,
          0.42896831426897963,
          0.44250126527215405,
          0.45469507045569935,
          0.4655999389942079,
          0.47526084803141627,
          0.4837182013307127,
          0.49100840134017376,
          0.49716435061446435,
          0.5022158953858943,
          0.5061902215290485,
          0.5091122110626591,
          0.5110047655679816,
          0.5118891013994434,
          0.5117850202741606,
          0.5107111577286116,
          0.5086852110170487,
          0.5057241473010943,
          0.5018443924501802,
          0.4970620004402322,
          0.49139280319523876,
          0.4848525407419182,
          0.477456971708048,
          0.4692219644479848,
          0.4601635693794672,
          0.4502980734221333,
          0.43964203770638793,
          0.42821231994797915,
          0.4160260830464789,
          0.40310079156192397,
          0.38945419775740675,
          0.37510431887512896,
          0.360069407250136,
          0.34436791477074413,
          0.3280184530777579,
          0.31103975076467516,
          0.29345060870520634,
          0.27526985449796226,
          0.25651629688502164,
          0.2372086808740151,
          0.21736564417416204,
          0.19700567544646336,
          0.17614707476755823,
          0.15480791661578744,
          0.13300601560668585,
          0.11075889513318476,
          0.08808375900283764,
          0.06499746610989854,
          0.04151650813353275,
          0.017656990214237608,
          -0.006565385471904998,
          -0.031135333347842516,
          -0.0560379954065164,
          -0.0812589496615036,
          -0.10678421623212572,
          -0.13260026122544633,
          -0.15869399858188282,
          -0.18505279005261896,
          -0.21166444347605756,
          -0.23851720951760846,
          -0.26559977703252746,
          -0.29290126720564136,
          -0.32041122661490506,
          -0.3481196193580979,
          -0.3760168183738054,
          -0.40409359607934436,
          -0.43234111443963824,
          -0.4607509145723811,
          -0.4893149059862523,
          -0.5180253555405593,
          -0.5468748762065666,
          -0.5758564157029759,
          -0.6049632450705906,
          -0.6341889472441775,
          -0.663527405672921,
          -0.6929727930346947,
          -0.7225195600836236,
          -0.7521624246650984,
          -0.7818963609275088,
          -0.8117165887554777,
          -0.8416185634452901,
          -0.8715979656394941,
          -0.9016506915342973,
          -0.9317728433703574,
          -0.9619607202148631,
          -0.9922108090403894,
          -1.022519776103869,
          -1.0528844586271386,
          -1.0833018567788637,
          -1.113769125956197,
          -1.1442835693632867,
          -1.1748426308826703,
          -1.2054438882346832,
          -1.236085046419241,
          -1.2667639314337185,
          -1.2974784842601272,
          -1.328226755114374
         ]
        }
       ],
       "layout": {
        "template": {
         "data": {
          "bar": [
           {
            "error_x": {
             "color": "#2a3f5f"
            },
            "error_y": {
             "color": "#2a3f5f"
            },
            "marker": {
             "line": {
              "color": "#E5ECF6",
              "width": 0.5
             },
             "pattern": {
              "fillmode": "overlay",
              "size": 10,
              "solidity": 0.2
             }
            },
            "type": "bar"
           }
          ],
          "barpolar": [
           {
            "marker": {
             "line": {
              "color": "#E5ECF6",
              "width": 0.5
             },
             "pattern": {
              "fillmode": "overlay",
              "size": 10,
              "solidity": 0.2
             }
            },
            "type": "barpolar"
           }
          ],
          "carpet": [
           {
            "aaxis": {
             "endlinecolor": "#2a3f5f",
             "gridcolor": "white",
             "linecolor": "white",
             "minorgridcolor": "white",
             "startlinecolor": "#2a3f5f"
            },
            "baxis": {
             "endlinecolor": "#2a3f5f",
             "gridcolor": "white",
             "linecolor": "white",
             "minorgridcolor": "white",
             "startlinecolor": "#2a3f5f"
            },
            "type": "carpet"
           }
          ],
          "choropleth": [
           {
            "colorbar": {
             "outlinewidth": 0,
             "ticks": ""
            },
            "type": "choropleth"
           }
          ],
          "contour": [
           {
            "colorbar": {
             "outlinewidth": 0,
             "ticks": ""
            },
            "colorscale": [
             [
              0,
              "#0d0887"
             ],
             [
              0.1111111111111111,
              "#46039f"
             ],
             [
              0.2222222222222222,
              "#7201a8"
             ],
             [
              0.3333333333333333,
              "#9c179e"
             ],
             [
              0.4444444444444444,
              "#bd3786"
             ],
             [
              0.5555555555555556,
              "#d8576b"
             ],
             [
              0.6666666666666666,
              "#ed7953"
             ],
             [
              0.7777777777777778,
              "#fb9f3a"
             ],
             [
              0.8888888888888888,
              "#fdca26"
             ],
             [
              1,
              "#f0f921"
             ]
            ],
            "type": "contour"
           }
          ],
          "contourcarpet": [
           {
            "colorbar": {
             "outlinewidth": 0,
             "ticks": ""
            },
            "type": "contourcarpet"
           }
          ],
          "heatmap": [
           {
            "colorbar": {
             "outlinewidth": 0,
             "ticks": ""
            },
            "colorscale": [
             [
              0,
              "#0d0887"
             ],
             [
              0.1111111111111111,
              "#46039f"
             ],
             [
              0.2222222222222222,
              "#7201a8"
             ],
             [
              0.3333333333333333,
              "#9c179e"
             ],
             [
              0.4444444444444444,
              "#bd3786"
             ],
             [
              0.5555555555555556,
              "#d8576b"
             ],
             [
              0.6666666666666666,
              "#ed7953"
             ],
             [
              0.7777777777777778,
              "#fb9f3a"
             ],
             [
              0.8888888888888888,
              "#fdca26"
             ],
             [
              1,
              "#f0f921"
             ]
            ],
            "type": "heatmap"
           }
          ],
          "heatmapgl": [
           {
            "colorbar": {
             "outlinewidth": 0,
             "ticks": ""
            },
            "colorscale": [
             [
              0,
              "#0d0887"
             ],
             [
              0.1111111111111111,
              "#46039f"
             ],
             [
              0.2222222222222222,
              "#7201a8"
             ],
             [
              0.3333333333333333,
              "#9c179e"
             ],
             [
              0.4444444444444444,
              "#bd3786"
             ],
             [
              0.5555555555555556,
              "#d8576b"
             ],
             [
              0.6666666666666666,
              "#ed7953"
             ],
             [
              0.7777777777777778,
              "#fb9f3a"
             ],
             [
              0.8888888888888888,
              "#fdca26"
             ],
             [
              1,
              "#f0f921"
             ]
            ],
            "type": "heatmapgl"
           }
          ],
          "histogram": [
           {
            "marker": {
             "pattern": {
              "fillmode": "overlay",
              "size": 10,
              "solidity": 0.2
             }
            },
            "type": "histogram"
           }
          ],
          "histogram2d": [
           {
            "colorbar": {
             "outlinewidth": 0,
             "ticks": ""
            },
            "colorscale": [
             [
              0,
              "#0d0887"
             ],
             [
              0.1111111111111111,
              "#46039f"
             ],
             [
              0.2222222222222222,
              "#7201a8"
             ],
             [
              0.3333333333333333,
              "#9c179e"
             ],
             [
              0.4444444444444444,
              "#bd3786"
             ],
             [
              0.5555555555555556,
              "#d8576b"
             ],
             [
              0.6666666666666666,
              "#ed7953"
             ],
             [
              0.7777777777777778,
              "#fb9f3a"
             ],
             [
              0.8888888888888888,
              "#fdca26"
             ],
             [
              1,
              "#f0f921"
             ]
            ],
            "type": "histogram2d"
           }
          ],
          "histogram2dcontour": [
           {
            "colorbar": {
             "outlinewidth": 0,
             "ticks": ""
            },
            "colorscale": [
             [
              0,
              "#0d0887"
             ],
             [
              0.1111111111111111,
              "#46039f"
             ],
             [
              0.2222222222222222,
              "#7201a8"
             ],
             [
              0.3333333333333333,
              "#9c179e"
             ],
             [
              0.4444444444444444,
              "#bd3786"
             ],
             [
              0.5555555555555556,
              "#d8576b"
             ],
             [
              0.6666666666666666,
              "#ed7953"
             ],
             [
              0.7777777777777778,
              "#fb9f3a"
             ],
             [
              0.8888888888888888,
              "#fdca26"
             ],
             [
              1,
              "#f0f921"
             ]
            ],
            "type": "histogram2dcontour"
           }
          ],
          "mesh3d": [
           {
            "colorbar": {
             "outlinewidth": 0,
             "ticks": ""
            },
            "type": "mesh3d"
           }
          ],
          "parcoords": [
           {
            "line": {
             "colorbar": {
              "outlinewidth": 0,
              "ticks": ""
             }
            },
            "type": "parcoords"
           }
          ],
          "pie": [
           {
            "automargin": true,
            "type": "pie"
           }
          ],
          "scatter": [
           {
            "fillpattern": {
             "fillmode": "overlay",
             "size": 10,
             "solidity": 0.2
            },
            "type": "scatter"
           }
          ],
          "scatter3d": [
           {
            "line": {
             "colorbar": {
              "outlinewidth": 0,
              "ticks": ""
             }
            },
            "marker": {
             "colorbar": {
              "outlinewidth": 0,
              "ticks": ""
             }
            },
            "type": "scatter3d"
           }
          ],
          "scattercarpet": [
           {
            "marker": {
             "colorbar": {
              "outlinewidth": 0,
              "ticks": ""
             }
            },
            "type": "scattercarpet"
           }
          ],
          "scattergeo": [
           {
            "marker": {
             "colorbar": {
              "outlinewidth": 0,
              "ticks": ""
             }
            },
            "type": "scattergeo"
           }
          ],
          "scattergl": [
           {
            "marker": {
             "colorbar": {
              "outlinewidth": 0,
              "ticks": ""
             }
            },
            "type": "scattergl"
           }
          ],
          "scattermapbox": [
           {
            "marker": {
             "colorbar": {
              "outlinewidth": 0,
              "ticks": ""
             }
            },
            "type": "scattermapbox"
           }
          ],
          "scatterpolar": [
           {
            "marker": {
             "colorbar": {
              "outlinewidth": 0,
              "ticks": ""
             }
            },
            "type": "scatterpolar"
           }
          ],
          "scatterpolargl": [
           {
            "marker": {
             "colorbar": {
              "outlinewidth": 0,
              "ticks": ""
             }
            },
            "type": "scatterpolargl"
           }
          ],
          "scatterternary": [
           {
            "marker": {
             "colorbar": {
              "outlinewidth": 0,
              "ticks": ""
             }
            },
            "type": "scatterternary"
           }
          ],
          "surface": [
           {
            "colorbar": {
             "outlinewidth": 0,
             "ticks": ""
            },
            "colorscale": [
             [
              0,
              "#0d0887"
             ],
             [
              0.1111111111111111,
              "#46039f"
             ],
             [
              0.2222222222222222,
              "#7201a8"
             ],
             [
              0.3333333333333333,
              "#9c179e"
             ],
             [
              0.4444444444444444,
              "#bd3786"
             ],
             [
              0.5555555555555556,
              "#d8576b"
             ],
             [
              0.6666666666666666,
              "#ed7953"
             ],
             [
              0.7777777777777778,
              "#fb9f3a"
             ],
             [
              0.8888888888888888,
              "#fdca26"
             ],
             [
              1,
              "#f0f921"
             ]
            ],
            "type": "surface"
           }
          ],
          "table": [
           {
            "cells": {
             "fill": {
              "color": "#EBF0F8"
             },
             "line": {
              "color": "white"
             }
            },
            "header": {
             "fill": {
              "color": "#C8D4E3"
             },
             "line": {
              "color": "white"
             }
            },
            "type": "table"
           }
          ]
         },
         "layout": {
          "annotationdefaults": {
           "arrowcolor": "#2a3f5f",
           "arrowhead": 0,
           "arrowwidth": 1
          },
          "autotypenumbers": "strict",
          "coloraxis": {
           "colorbar": {
            "outlinewidth": 0,
            "ticks": ""
           }
          },
          "colorscale": {
           "diverging": [
            [
             0,
             "#8e0152"
            ],
            [
             0.1,
             "#c51b7d"
            ],
            [
             0.2,
             "#de77ae"
            ],
            [
             0.3,
             "#f1b6da"
            ],
            [
             0.4,
             "#fde0ef"
            ],
            [
             0.5,
             "#f7f7f7"
            ],
            [
             0.6,
             "#e6f5d0"
            ],
            [
             0.7,
             "#b8e186"
            ],
            [
             0.8,
             "#7fbc41"
            ],
            [
             0.9,
             "#4d9221"
            ],
            [
             1,
             "#276419"
            ]
           ],
           "sequential": [
            [
             0,
             "#0d0887"
            ],
            [
             0.1111111111111111,
             "#46039f"
            ],
            [
             0.2222222222222222,
             "#7201a8"
            ],
            [
             0.3333333333333333,
             "#9c179e"
            ],
            [
             0.4444444444444444,
             "#bd3786"
            ],
            [
             0.5555555555555556,
             "#d8576b"
            ],
            [
             0.6666666666666666,
             "#ed7953"
            ],
            [
             0.7777777777777778,
             "#fb9f3a"
            ],
            [
             0.8888888888888888,
             "#fdca26"
            ],
            [
             1,
             "#f0f921"
            ]
           ],
           "sequentialminus": [
            [
             0,
             "#0d0887"
            ],
            [
             0.1111111111111111,
             "#46039f"
            ],
            [
             0.2222222222222222,
             "#7201a8"
            ],
            [
             0.3333333333333333,
             "#9c179e"
            ],
            [
             0.4444444444444444,
             "#bd3786"
            ],
            [
             0.5555555555555556,
             "#d8576b"
            ],
            [
             0.6666666666666666,
             "#ed7953"
            ],
            [
             0.7777777777777778,
             "#fb9f3a"
            ],
            [
             0.8888888888888888,
             "#fdca26"
            ],
            [
             1,
             "#f0f921"
            ]
           ]
          },
          "colorway": [
           "#636efa",
           "#EF553B",
           "#00cc96",
           "#ab63fa",
           "#FFA15A",
           "#19d3f3",
           "#FF6692",
           "#B6E880",
           "#FF97FF",
           "#FECB52"
          ],
          "font": {
           "color": "#2a3f5f"
          },
          "geo": {
           "bgcolor": "white",
           "lakecolor": "white",
           "landcolor": "#E5ECF6",
           "showlakes": true,
           "showland": true,
           "subunitcolor": "white"
          },
          "hoverlabel": {
           "align": "left"
          },
          "hovermode": "closest",
          "mapbox": {
           "style": "light"
          },
          "paper_bgcolor": "white",
          "plot_bgcolor": "#E5ECF6",
          "polar": {
           "angularaxis": {
            "gridcolor": "white",
            "linecolor": "white",
            "ticks": ""
           },
           "bgcolor": "#E5ECF6",
           "radialaxis": {
            "gridcolor": "white",
            "linecolor": "white",
            "ticks": ""
           }
          },
          "scene": {
           "xaxis": {
            "backgroundcolor": "#E5ECF6",
            "gridcolor": "white",
            "gridwidth": 2,
            "linecolor": "white",
            "showbackground": true,
            "ticks": "",
            "zerolinecolor": "white"
           },
           "yaxis": {
            "backgroundcolor": "#E5ECF6",
            "gridcolor": "white",
            "gridwidth": 2,
            "linecolor": "white",
            "showbackground": true,
            "ticks": "",
            "zerolinecolor": "white"
           },
           "zaxis": {
            "backgroundcolor": "#E5ECF6",
            "gridcolor": "white",
            "gridwidth": 2,
            "linecolor": "white",
            "showbackground": true,
            "ticks": "",
            "zerolinecolor": "white"
           }
          },
          "shapedefaults": {
           "line": {
            "color": "#2a3f5f"
           }
          },
          "ternary": {
           "aaxis": {
            "gridcolor": "white",
            "linecolor": "white",
            "ticks": ""
           },
           "baxis": {
            "gridcolor": "white",
            "linecolor": "white",
            "ticks": ""
           },
           "bgcolor": "#E5ECF6",
           "caxis": {
            "gridcolor": "white",
            "linecolor": "white",
            "ticks": ""
           }
          },
          "title": {
           "x": 0.05
          },
          "xaxis": {
           "automargin": true,
           "gridcolor": "white",
           "linecolor": "white",
           "ticks": "",
           "title": {
            "standoff": 15
           },
           "zerolinecolor": "white",
           "zerolinewidth": 2
          },
          "yaxis": {
           "automargin": true,
           "gridcolor": "white",
           "linecolor": "white",
           "ticks": "",
           "title": {
            "standoff": 15
           },
           "zerolinecolor": "white",
           "zerolinewidth": 2
          }
         }
        },
        "title": {
         "text": "Particle trajectories as a function of time"
        },
        "xaxis": {
         "title": {
          "text": "Time"
         }
        },
        "yaxis": {
         "title": {
          "text": "Position"
         }
        }
       }
      }
     },
     "metadata": {},
     "output_type": "display_data"
    }
   ],
   "source": [
    "# plotly\n",
    "import plotly.graph_objects as go\n",
    "fig = go.Figure()\n",
    "fig.add_trace(go.Scatter(x=t, y=u[:, 0], mode='lines', name='x(t)'))\n",
    "fig.add_trace(go.Scatter(x=t, y=u[:, 2], mode='lines', name='z(t)'))\n",
    "fig.update_layout(title='Particle trajectories as a function of time',\n",
    "                  xaxis_title='Time',\n",
    "                  yaxis_title='Position')\n",
    "# disable select zoom and pan\n",
    "fig.show(config={'scrollZoom': False, 'displayModeBar': False})"
   ]
  },
  {
   "cell_type": "code",
   "execution_count": 13,
   "id": "be31f139",
   "metadata": {},
   "outputs": [
    {
     "data": {
      "application/vnd.plotly.v1+json": {
       "config": {
        "plotlyServerURL": "https://plot.ly"
       },
       "data": [
        {
         "hovertemplate": "Time: %{marker.color:.2f}<br>x: %{x:.2f}<br>z: %{y:.2f}<extra></extra>",
         "marker": {
          "color": [
           0,
           0.01,
           0.02,
           0.03,
           0.04,
           0.05,
           0.060000000000000005,
           0.07,
           0.08,
           0.09,
           0.09999999999999999,
           0.10999999999999999,
           0.11999999999999998,
           0.12999999999999998,
           0.13999999999999999,
           0.15,
           0.16,
           0.17,
           0.18000000000000002,
           0.19000000000000003,
           0.20000000000000004,
           0.21000000000000005,
           0.22000000000000006,
           0.23000000000000007,
           0.24000000000000007,
           0.25000000000000006,
           0.26000000000000006,
           0.2700000000000001,
           0.2800000000000001,
           0.2900000000000001,
           0.3000000000000001,
           0.3100000000000001,
           0.3200000000000001,
           0.3300000000000001,
           0.34000000000000014,
           0.35000000000000014,
           0.36000000000000015,
           0.37000000000000016,
           0.38000000000000017,
           0.3900000000000002,
           0.4000000000000002,
           0.4100000000000002,
           0.4200000000000002,
           0.4300000000000002,
           0.4400000000000002,
           0.45000000000000023,
           0.46000000000000024,
           0.47000000000000025,
           0.48000000000000026,
           0.49000000000000027,
           0.5000000000000002,
           0.5100000000000002,
           0.5200000000000002,
           0.5300000000000002,
           0.5400000000000003,
           0.5500000000000003,
           0.5600000000000003,
           0.5700000000000003,
           0.5800000000000003,
           0.5900000000000003,
           0.6000000000000003,
           0.6100000000000003,
           0.6200000000000003,
           0.6300000000000003,
           0.6400000000000003,
           0.6500000000000004,
           0.6600000000000004,
           0.6700000000000004,
           0.6800000000000004,
           0.6900000000000004,
           0.7000000000000004,
           0.7100000000000004,
           0.7200000000000004,
           0.7300000000000004,
           0.7400000000000004,
           0.7500000000000004,
           0.7600000000000005,
           0.7700000000000005,
           0.7800000000000005,
           0.7900000000000005,
           0.8000000000000005,
           0.8100000000000005,
           0.8200000000000005,
           0.8300000000000005,
           0.8400000000000005,
           0.8500000000000005,
           0.8600000000000005,
           0.8700000000000006,
           0.8800000000000006,
           0.8900000000000006,
           0.9000000000000006,
           0.9100000000000006,
           0.9200000000000006,
           0.9300000000000006,
           0.9400000000000006,
           0.9500000000000006,
           0.9600000000000006,
           0.9700000000000006,
           0.9800000000000006,
           0.9900000000000007,
           1.0000000000000007,
           1.0100000000000007,
           1.0200000000000007,
           1.0300000000000007,
           1.0400000000000007,
           1.0500000000000007,
           1.0600000000000007,
           1.0700000000000007,
           1.0800000000000007,
           1.0900000000000007,
           1.1
          ],
          "colorbar": {
           "title": {
            "text": "Time"
           }
          },
          "colorscale": [
           [
            0,
            "#440154"
           ],
           [
            0.1111111111111111,
            "#482878"
           ],
           [
            0.2222222222222222,
            "#3e4989"
           ],
           [
            0.3333333333333333,
            "#31688e"
           ],
           [
            0.4444444444444444,
            "#26828e"
           ],
           [
            0.5555555555555556,
            "#1f9e89"
           ],
           [
            0.6666666666666666,
            "#35b779"
           ],
           [
            0.7777777777777778,
            "#6ece58"
           ],
           [
            0.8888888888888888,
            "#b5de2b"
           ],
           [
            1,
            "#fde725"
           ]
          ]
         },
         "mode": "markers",
         "type": "scatter",
         "x": [
          0,
          0.04823223304703363,
          0.09342593463389948,
          0.13596706835012123,
          0.17617425703835765,
          0.21431350964071016,
          0.25060913646177274,
          0.2852519740444401,
          0.3184056750255513,
          0.3502115824709503,
          0.38079255269341344,
          0.41025598595645213,
          0.4386962528004079,
          0.46619665379697434,
          0.4928310152166745,
          0.5186649977563038,
          0.5437571770660783,
          0.5681599412895483,
          0.5919202407865599,
          0.6150802176851832,
          0.6376777372257897,
          0.6597468385380996,
          0.6813181191824762,
          0.7024190652345421,
          0.7230743367056112,
          0.7433060165234167,
          0.7631338300330349,
          0.7825753409257282,
          0.8016461285924419,
          0.8203599510757529,
          0.8387288970238364,
          0.8567635293147637,
          0.8744730223179219,
          0.8918652941037514,
          0.9089471343240436,
          0.9257243279856239,
          0.9422017749492682,
          0.9583836047132306,
          0.9742732858857878,
          0.9898737297021054,
          1.0051873869779189,
          1.0202163379922387,
          1.0349623749294297,
          1.0494270766660767,
          1.063611875842958,
          1.077518118305139,
          1.0911471151163596,
          1.1045001874541196,
          1.1175787047686592,
          1.1303841166438304,
          1.1429179788331303,
          1.155181973962914,
          1.1671779274000351,
          1.1789078187756923,
          1.1903737896435993,
          1.201578147730845,
          1.212523368215744,
          1.2232120924400107,
          1.23364712443386,
          1.2438314256030436,
          1.2537681078970753,
          1.2634604257485085,
          1.2729117670445351,
          1.2821256433646664,
          1.2911056796920704,
          1.2998556037814282,
          1.3083792353430446,
          1.3166804751814525,
          1.324763294406928,
          1.3326317238201622,
          1.3402898435537944,
          1.347741773039559,
          1.3549916613563542,
          1.3620436780025507,
          1.3689020041252353,
          1.375570824229728,
          1.3820543183845546,
          1.3883566549299908,
          1.3944819836922295,
          1.4004344297000837,
          1.4062180873968155,
          1.4118370153361148,
          1.4172952313483418,
          1.4225967081608368,
          1.4277453694543072,
          1.432745086335965,
          1.4375996742091537,
          1.4423128900186066,
          1.4468884298501772,
          1.4513299268638349,
          1.4556409495388725,
          1.4598250002106037,
          1.4638855138783056,
          1.467825857264739,
          1.4716493281082619,
          1.4753591546692908,
          1.4789584954336539,
          1.4824504389962119,
          1.4858380041089592,
          1.4891241398786765,
          1.4923117261000565,
          1.4954035737110651,
          1.4984024253581296,
          1.5013109560595497,
          1.5041317739563098,
          1.5068674211402222,
          1.5095203745500527,
          1.512093046926974,
          1.514587787821344,
          1.5170068846434355,
          1.5193525637513272
         ],
         "y": [
          0,
          0.047741733047033635,
          0.0915268662914096,
          0.1317908662169907,
          0.1688926045934729,
          0.20313108836372057,
          0.23475786195688378,
          0.26398635581000657,
          0.29099903928646054,
          0.31595296825721053,
          0.33898414100418545,
          0.36021095731904323,
          0.37973699429532815,
          0.39765325562360015,
          0.4140400110976773,
          0.42896831426897963,
          0.44250126527215405,
          0.45469507045569935,
          0.4655999389942079,
          0.47526084803141627,
          0.4837182013307127,
          0.49100840134017376,
          0.49716435061446435,
          0.5022158953858943,
          0.5061902215290485,
          0.5091122110626591,
          0.5110047655679816,
          0.5118891013994434,
          0.5117850202741606,
          0.5107111577286116,
          0.5086852110170487,
          0.5057241473010943,
          0.5018443924501802,
          0.4970620004402322,
          0.49139280319523876,
          0.4848525407419182,
          0.477456971708048,
          0.4692219644479848,
          0.4601635693794672,
          0.4502980734221333,
          0.43964203770638793,
          0.42821231994797915,
          0.4160260830464789,
          0.40310079156192397,
          0.38945419775740675,
          0.37510431887512896,
          0.360069407250136,
          0.34436791477074413,
          0.3280184530777579,
          0.31103975076467516,
          0.29345060870520634,
          0.27526985449796226,
          0.25651629688502164,
          0.2372086808740151,
          0.21736564417416204,
          0.19700567544646336,
          0.17614707476755823,
          0.15480791661578744,
          0.13300601560668585,
          0.11075889513318476,
          0.08808375900283764,
          0.06499746610989854,
          0.04151650813353275,
          0.017656990214237608,
          -0.006565385471904998,
          -0.031135333347842516,
          -0.0560379954065164,
          -0.0812589496615036,
          -0.10678421623212572,
          -0.13260026122544633,
          -0.15869399858188282,
          -0.18505279005261896,
          -0.21166444347605756,
          -0.23851720951760846,
          -0.26559977703252746,
          -0.29290126720564136,
          -0.32041122661490506,
          -0.3481196193580979,
          -0.3760168183738054,
          -0.40409359607934436,
          -0.43234111443963824,
          -0.4607509145723811,
          -0.4893149059862523,
          -0.5180253555405593,
          -0.5468748762065666,
          -0.5758564157029759,
          -0.6049632450705906,
          -0.6341889472441775,
          -0.663527405672921,
          -0.6929727930346947,
          -0.7225195600836236,
          -0.7521624246650984,
          -0.7818963609275088,
          -0.8117165887554777,
          -0.8416185634452901,
          -0.8715979656394941,
          -0.9016506915342973,
          -0.9317728433703574,
          -0.9619607202148631,
          -0.9922108090403894,
          -1.022519776103869,
          -1.0528844586271386,
          -1.0833018567788637,
          -1.113769125956197,
          -1.1442835693632867,
          -1.1748426308826703,
          -1.2054438882346832,
          -1.236085046419241,
          -1.2667639314337185,
          -1.2974784842601272,
          -1.328226755114374
         ]
        }
       ],
       "layout": {
        "template": {
         "data": {
          "bar": [
           {
            "error_x": {
             "color": "#2a3f5f"
            },
            "error_y": {
             "color": "#2a3f5f"
            },
            "marker": {
             "line": {
              "color": "#E5ECF6",
              "width": 0.5
             },
             "pattern": {
              "fillmode": "overlay",
              "size": 10,
              "solidity": 0.2
             }
            },
            "type": "bar"
           }
          ],
          "barpolar": [
           {
            "marker": {
             "line": {
              "color": "#E5ECF6",
              "width": 0.5
             },
             "pattern": {
              "fillmode": "overlay",
              "size": 10,
              "solidity": 0.2
             }
            },
            "type": "barpolar"
           }
          ],
          "carpet": [
           {
            "aaxis": {
             "endlinecolor": "#2a3f5f",
             "gridcolor": "white",
             "linecolor": "white",
             "minorgridcolor": "white",
             "startlinecolor": "#2a3f5f"
            },
            "baxis": {
             "endlinecolor": "#2a3f5f",
             "gridcolor": "white",
             "linecolor": "white",
             "minorgridcolor": "white",
             "startlinecolor": "#2a3f5f"
            },
            "type": "carpet"
           }
          ],
          "choropleth": [
           {
            "colorbar": {
             "outlinewidth": 0,
             "ticks": ""
            },
            "type": "choropleth"
           }
          ],
          "contour": [
           {
            "colorbar": {
             "outlinewidth": 0,
             "ticks": ""
            },
            "colorscale": [
             [
              0,
              "#0d0887"
             ],
             [
              0.1111111111111111,
              "#46039f"
             ],
             [
              0.2222222222222222,
              "#7201a8"
             ],
             [
              0.3333333333333333,
              "#9c179e"
             ],
             [
              0.4444444444444444,
              "#bd3786"
             ],
             [
              0.5555555555555556,
              "#d8576b"
             ],
             [
              0.6666666666666666,
              "#ed7953"
             ],
             [
              0.7777777777777778,
              "#fb9f3a"
             ],
             [
              0.8888888888888888,
              "#fdca26"
             ],
             [
              1,
              "#f0f921"
             ]
            ],
            "type": "contour"
           }
          ],
          "contourcarpet": [
           {
            "colorbar": {
             "outlinewidth": 0,
             "ticks": ""
            },
            "type": "contourcarpet"
           }
          ],
          "heatmap": [
           {
            "colorbar": {
             "outlinewidth": 0,
             "ticks": ""
            },
            "colorscale": [
             [
              0,
              "#0d0887"
             ],
             [
              0.1111111111111111,
              "#46039f"
             ],
             [
              0.2222222222222222,
              "#7201a8"
             ],
             [
              0.3333333333333333,
              "#9c179e"
             ],
             [
              0.4444444444444444,
              "#bd3786"
             ],
             [
              0.5555555555555556,
              "#d8576b"
             ],
             [
              0.6666666666666666,
              "#ed7953"
             ],
             [
              0.7777777777777778,
              "#fb9f3a"
             ],
             [
              0.8888888888888888,
              "#fdca26"
             ],
             [
              1,
              "#f0f921"
             ]
            ],
            "type": "heatmap"
           }
          ],
          "heatmapgl": [
           {
            "colorbar": {
             "outlinewidth": 0,
             "ticks": ""
            },
            "colorscale": [
             [
              0,
              "#0d0887"
             ],
             [
              0.1111111111111111,
              "#46039f"
             ],
             [
              0.2222222222222222,
              "#7201a8"
             ],
             [
              0.3333333333333333,
              "#9c179e"
             ],
             [
              0.4444444444444444,
              "#bd3786"
             ],
             [
              0.5555555555555556,
              "#d8576b"
             ],
             [
              0.6666666666666666,
              "#ed7953"
             ],
             [
              0.7777777777777778,
              "#fb9f3a"
             ],
             [
              0.8888888888888888,
              "#fdca26"
             ],
             [
              1,
              "#f0f921"
             ]
            ],
            "type": "heatmapgl"
           }
          ],
          "histogram": [
           {
            "marker": {
             "pattern": {
              "fillmode": "overlay",
              "size": 10,
              "solidity": 0.2
             }
            },
            "type": "histogram"
           }
          ],
          "histogram2d": [
           {
            "colorbar": {
             "outlinewidth": 0,
             "ticks": ""
            },
            "colorscale": [
             [
              0,
              "#0d0887"
             ],
             [
              0.1111111111111111,
              "#46039f"
             ],
             [
              0.2222222222222222,
              "#7201a8"
             ],
             [
              0.3333333333333333,
              "#9c179e"
             ],
             [
              0.4444444444444444,
              "#bd3786"
             ],
             [
              0.5555555555555556,
              "#d8576b"
             ],
             [
              0.6666666666666666,
              "#ed7953"
             ],
             [
              0.7777777777777778,
              "#fb9f3a"
             ],
             [
              0.8888888888888888,
              "#fdca26"
             ],
             [
              1,
              "#f0f921"
             ]
            ],
            "type": "histogram2d"
           }
          ],
          "histogram2dcontour": [
           {
            "colorbar": {
             "outlinewidth": 0,
             "ticks": ""
            },
            "colorscale": [
             [
              0,
              "#0d0887"
             ],
             [
              0.1111111111111111,
              "#46039f"
             ],
             [
              0.2222222222222222,
              "#7201a8"
             ],
             [
              0.3333333333333333,
              "#9c179e"
             ],
             [
              0.4444444444444444,
              "#bd3786"
             ],
             [
              0.5555555555555556,
              "#d8576b"
             ],
             [
              0.6666666666666666,
              "#ed7953"
             ],
             [
              0.7777777777777778,
              "#fb9f3a"
             ],
             [
              0.8888888888888888,
              "#fdca26"
             ],
             [
              1,
              "#f0f921"
             ]
            ],
            "type": "histogram2dcontour"
           }
          ],
          "mesh3d": [
           {
            "colorbar": {
             "outlinewidth": 0,
             "ticks": ""
            },
            "type": "mesh3d"
           }
          ],
          "parcoords": [
           {
            "line": {
             "colorbar": {
              "outlinewidth": 0,
              "ticks": ""
             }
            },
            "type": "parcoords"
           }
          ],
          "pie": [
           {
            "automargin": true,
            "type": "pie"
           }
          ],
          "scatter": [
           {
            "fillpattern": {
             "fillmode": "overlay",
             "size": 10,
             "solidity": 0.2
            },
            "type": "scatter"
           }
          ],
          "scatter3d": [
           {
            "line": {
             "colorbar": {
              "outlinewidth": 0,
              "ticks": ""
             }
            },
            "marker": {
             "colorbar": {
              "outlinewidth": 0,
              "ticks": ""
             }
            },
            "type": "scatter3d"
           }
          ],
          "scattercarpet": [
           {
            "marker": {
             "colorbar": {
              "outlinewidth": 0,
              "ticks": ""
             }
            },
            "type": "scattercarpet"
           }
          ],
          "scattergeo": [
           {
            "marker": {
             "colorbar": {
              "outlinewidth": 0,
              "ticks": ""
             }
            },
            "type": "scattergeo"
           }
          ],
          "scattergl": [
           {
            "marker": {
             "colorbar": {
              "outlinewidth": 0,
              "ticks": ""
             }
            },
            "type": "scattergl"
           }
          ],
          "scattermapbox": [
           {
            "marker": {
             "colorbar": {
              "outlinewidth": 0,
              "ticks": ""
             }
            },
            "type": "scattermapbox"
           }
          ],
          "scatterpolar": [
           {
            "marker": {
             "colorbar": {
              "outlinewidth": 0,
              "ticks": ""
             }
            },
            "type": "scatterpolar"
           }
          ],
          "scatterpolargl": [
           {
            "marker": {
             "colorbar": {
              "outlinewidth": 0,
              "ticks": ""
             }
            },
            "type": "scatterpolargl"
           }
          ],
          "scatterternary": [
           {
            "marker": {
             "colorbar": {
              "outlinewidth": 0,
              "ticks": ""
             }
            },
            "type": "scatterternary"
           }
          ],
          "surface": [
           {
            "colorbar": {
             "outlinewidth": 0,
             "ticks": ""
            },
            "colorscale": [
             [
              0,
              "#0d0887"
             ],
             [
              0.1111111111111111,
              "#46039f"
             ],
             [
              0.2222222222222222,
              "#7201a8"
             ],
             [
              0.3333333333333333,
              "#9c179e"
             ],
             [
              0.4444444444444444,
              "#bd3786"
             ],
             [
              0.5555555555555556,
              "#d8576b"
             ],
             [
              0.6666666666666666,
              "#ed7953"
             ],
             [
              0.7777777777777778,
              "#fb9f3a"
             ],
             [
              0.8888888888888888,
              "#fdca26"
             ],
             [
              1,
              "#f0f921"
             ]
            ],
            "type": "surface"
           }
          ],
          "table": [
           {
            "cells": {
             "fill": {
              "color": "#EBF0F8"
             },
             "line": {
              "color": "white"
             }
            },
            "header": {
             "fill": {
              "color": "#C8D4E3"
             },
             "line": {
              "color": "white"
             }
            },
            "type": "table"
           }
          ]
         },
         "layout": {
          "annotationdefaults": {
           "arrowcolor": "#2a3f5f",
           "arrowhead": 0,
           "arrowwidth": 1
          },
          "autotypenumbers": "strict",
          "coloraxis": {
           "colorbar": {
            "outlinewidth": 0,
            "ticks": ""
           }
          },
          "colorscale": {
           "diverging": [
            [
             0,
             "#8e0152"
            ],
            [
             0.1,
             "#c51b7d"
            ],
            [
             0.2,
             "#de77ae"
            ],
            [
             0.3,
             "#f1b6da"
            ],
            [
             0.4,
             "#fde0ef"
            ],
            [
             0.5,
             "#f7f7f7"
            ],
            [
             0.6,
             "#e6f5d0"
            ],
            [
             0.7,
             "#b8e186"
            ],
            [
             0.8,
             "#7fbc41"
            ],
            [
             0.9,
             "#4d9221"
            ],
            [
             1,
             "#276419"
            ]
           ],
           "sequential": [
            [
             0,
             "#0d0887"
            ],
            [
             0.1111111111111111,
             "#46039f"
            ],
            [
             0.2222222222222222,
             "#7201a8"
            ],
            [
             0.3333333333333333,
             "#9c179e"
            ],
            [
             0.4444444444444444,
             "#bd3786"
            ],
            [
             0.5555555555555556,
             "#d8576b"
            ],
            [
             0.6666666666666666,
             "#ed7953"
            ],
            [
             0.7777777777777778,
             "#fb9f3a"
            ],
            [
             0.8888888888888888,
             "#fdca26"
            ],
            [
             1,
             "#f0f921"
            ]
           ],
           "sequentialminus": [
            [
             0,
             "#0d0887"
            ],
            [
             0.1111111111111111,
             "#46039f"
            ],
            [
             0.2222222222222222,
             "#7201a8"
            ],
            [
             0.3333333333333333,
             "#9c179e"
            ],
            [
             0.4444444444444444,
             "#bd3786"
            ],
            [
             0.5555555555555556,
             "#d8576b"
            ],
            [
             0.6666666666666666,
             "#ed7953"
            ],
            [
             0.7777777777777778,
             "#fb9f3a"
            ],
            [
             0.8888888888888888,
             "#fdca26"
            ],
            [
             1,
             "#f0f921"
            ]
           ]
          },
          "colorway": [
           "#636efa",
           "#EF553B",
           "#00cc96",
           "#ab63fa",
           "#FFA15A",
           "#19d3f3",
           "#FF6692",
           "#B6E880",
           "#FF97FF",
           "#FECB52"
          ],
          "font": {
           "color": "#2a3f5f"
          },
          "geo": {
           "bgcolor": "white",
           "lakecolor": "white",
           "landcolor": "#E5ECF6",
           "showlakes": true,
           "showland": true,
           "subunitcolor": "white"
          },
          "hoverlabel": {
           "align": "left"
          },
          "hovermode": "closest",
          "mapbox": {
           "style": "light"
          },
          "paper_bgcolor": "white",
          "plot_bgcolor": "#E5ECF6",
          "polar": {
           "angularaxis": {
            "gridcolor": "white",
            "linecolor": "white",
            "ticks": ""
           },
           "bgcolor": "#E5ECF6",
           "radialaxis": {
            "gridcolor": "white",
            "linecolor": "white",
            "ticks": ""
           }
          },
          "scene": {
           "xaxis": {
            "backgroundcolor": "#E5ECF6",
            "gridcolor": "white",
            "gridwidth": 2,
            "linecolor": "white",
            "showbackground": true,
            "ticks": "",
            "zerolinecolor": "white"
           },
           "yaxis": {
            "backgroundcolor": "#E5ECF6",
            "gridcolor": "white",
            "gridwidth": 2,
            "linecolor": "white",
            "showbackground": true,
            "ticks": "",
            "zerolinecolor": "white"
           },
           "zaxis": {
            "backgroundcolor": "#E5ECF6",
            "gridcolor": "white",
            "gridwidth": 2,
            "linecolor": "white",
            "showbackground": true,
            "ticks": "",
            "zerolinecolor": "white"
           }
          },
          "shapedefaults": {
           "line": {
            "color": "#2a3f5f"
           }
          },
          "ternary": {
           "aaxis": {
            "gridcolor": "white",
            "linecolor": "white",
            "ticks": ""
           },
           "baxis": {
            "gridcolor": "white",
            "linecolor": "white",
            "ticks": ""
           },
           "bgcolor": "#E5ECF6",
           "caxis": {
            "gridcolor": "white",
            "linecolor": "white",
            "ticks": ""
           }
          },
          "title": {
           "x": 0.05
          },
          "xaxis": {
           "automargin": true,
           "gridcolor": "white",
           "linecolor": "white",
           "ticks": "",
           "title": {
            "standoff": 15
           },
           "zerolinecolor": "white",
           "zerolinewidth": 2
          },
          "yaxis": {
           "automargin": true,
           "gridcolor": "white",
           "linecolor": "white",
           "ticks": "",
           "title": {
            "standoff": 15
           },
           "zerolinecolor": "white",
           "zerolinewidth": 2
          }
         }
        },
        "title": {
         "text": "Particle trajectory"
        },
        "xaxis": {
         "title": {
          "text": "x(t)"
         }
        },
        "yaxis": {
         "title": {
          "text": "z(t)"
         }
        }
       }
      }
     },
     "metadata": {},
     "output_type": "display_data"
    }
   ],
   "source": [
    "import plotly.graph_objects as go\n",
    "\n",
    "# Create a scatter plot for the points\n",
    "scatter = go.Scatter(x=u[:, 0], y=u[:, 2], mode='markers', \n",
    "                     marker=dict(color=t, colorbar=dict(title='Time'), colorscale='viridis'),\n",
    "                     hovertemplate='Time: %{marker.color:.2f}<br>x: %{x:.2f}<br>z: %{y:.2f}<extra></extra>')\n",
    "\n",
    "# Create a layout\n",
    "layout = go.Layout(title='Particle trajectory', xaxis=dict(title='x(t)'), yaxis=dict(title='z(t)'))\n",
    "\n",
    "# Create a figure and add the scatter plot\n",
    "fig = go.Figure(data=[scatter], layout=layout)\n",
    "\n",
    "# Show the figure\n",
    "fig.show()"
   ]
  }
 ],
 "metadata": {
  "kernelspec": {
   "display_name": "Python 3 (ipykernel)",
   "language": "python",
   "name": "python3"
  },
  "language_info": {
   "codemirror_mode": {
    "name": "ipython",
    "version": 3
   },
   "file_extension": ".py",
   "mimetype": "text/x-python",
   "name": "python",
   "nbconvert_exporter": "python",
   "pygments_lexer": "ipython3",
   "version": "3.12.1"
  }
 },
 "nbformat": 4,
 "nbformat_minor": 5
}
